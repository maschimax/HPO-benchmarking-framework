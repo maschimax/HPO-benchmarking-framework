{
 "cells": [
  {
   "cell_type": "code",
   "execution_count": 1,
   "metadata": {},
   "outputs": [],
   "source": [
    "import pandas as pd\n",
    "import numpy as np\n",
    "from sklearn.impute import SimpleImputer\n",
    "from sklearn.model_selection import train_test_split\n",
    "from sklearn.ensemble import RandomForestRegressor, GradientBoostingRegressor, AdaBoostRegressor\n",
    "from sklearn.preprocessing import StandardScaler\n",
    "from sklearn.metrics import mean_squared_error\n",
    "from sklearn.multioutput import MultiOutputRegressor\n",
    "from math import sqrt\n",
    "from sklearn.utils import shuffle\n",
    "from sklearn.neural_network import MLPRegressor"
   ]
  },
  {
   "cell_type": "code",
   "execution_count": 2,
   "metadata": {},
   "outputs": [],
   "source": [
    "def preprocess_X(X_raw):\n",
    "    # Drop empty cols\n",
    "    drop_cols = ['UR: Robustness', 'Obtainability of gradients', 'Obtainability of good approximate', 'Supports parallel evaluations', 'Ratio training to test dataset']\n",
    "    for col in drop_cols:\n",
    "        if col in X_raw.columns:\n",
    "            X_raw.drop(col, axis=1, inplace=True)\n",
    "\n",
    "    # Handle missing 'UR: Anytime Performance' values\n",
    "    X_raw.loc[:, 'UR: Anytime Performance'].fillna(value='low', inplace=True)\n",
    "\n",
    "    X_raw.loc[:, 'Special properties of loss function'].fillna(value='None', inplace=True)\n",
    "\n",
    "    # One-Hot-Encoding\n",
    "    X_raw = pd.get_dummies(X_raw)\n",
    "\n",
    "    # Impute missing values of 'Number of maximum function evaluation ...'\n",
    "    median_evals = X_raw['Number of maximum function evaluations/ trials budget'].median()\n",
    "    X_raw.loc[:, 'Number of maximum function evaluations/ trials budget'].fillna(value=median_evals, inplace=True)\n",
    "\n",
    "    # Standard Scaling\n",
    "    scaler = StandardScaler()\n",
    "    X_raw = pd.DataFrame(scaler.fit_transform(X_raw), columns=X_raw.columns)\n",
    "\n",
    "    return X_raw\n"
   ]
  },
  {
   "cell_type": "code",
   "execution_count": 3,
   "metadata": {},
   "outputs": [
    {
     "output_type": "execute_result",
     "data": {
      "text/plain": [
       "MLPRegressor(batch_size=8, hidden_layer_sizes=(64, 64), random_state=0)"
      ]
     },
     "metadata": {},
     "execution_count": 3
    }
   ],
   "source": [
    "expanded_base = pd.read_csv('C:/Users/Max/Desktop/expanded_rule_base.csv', index_col=0)\n",
    "\n",
    "hpo_techs = ['Default Values', 'Random Search', 'CMA-ES', 'GPBO', 'SMAC', 'TPE',\n",
    "            'HB', 'BOHB', 'FABOLAS', 'BOHAMIANN']\n",
    "\n",
    "X_raw = expanded_base.copy(deep=True)\n",
    "y_raw = X_raw.loc[:, hpo_techs].copy(deep=True)\n",
    "X_raw.drop(hpo_techs, axis=1, inplace=True)\n",
    "\n",
    "# >>>>\n",
    "# TODO: FIX ERROR IN RULE BASE AND DELETE\n",
    "y_raw.loc[:, 'Default Values'].fillna(value=0.0, inplace=True)\n",
    "# >>>>\n",
    "\n",
    "# Preprocess X data\n",
    "X_processed = preprocess_X(X_raw)\n",
    "\n",
    "X_train, y_train = shuffle(X_processed, y_raw, random_state=0)\n",
    "\n",
    "# Modeling\n",
    "#model = RandomForestRegressor(random_state=0)\n",
    "model = MLPRegressor(hidden_layer_sizes=(64, 64), activation='relu', solver='adam', batch_size=8, random_state=0)\n",
    "#model = MultiOutputRegressor(estimator=AdaBoostRegressor(random_state=0))\n",
    "#model = MultiOutputRegressor(estimator=GradientBoostingRegressor(random_state=0))\n",
    "\n",
    "# Fit the model on the Rule Base\n",
    "model.fit(X_train, y_train)\n",
    "\n"
   ]
  },
  {
   "cell_type": "markdown",
   "metadata": {},
   "source": [
    "# Max's results"
   ]
  },
  {
   "cell_type": "code",
   "execution_count": 4,
   "metadata": {},
   "outputs": [
    {
     "output_type": "execute_result",
     "data": {
      "text/plain": [
       "Index(['Trial-ID', 'HPO-library', 'HPO-method', 'ML-algorithm', 'Runs',\n",
       "       'Evaluations', 'Workers', 'GPU', 'Warmstart', 'Wall clock time [s]',\n",
       "       't outperform default [s]', 'Mean (final validation loss)',\n",
       "       'Validation baseline', 'Area under curve (AUC)',\n",
       "       'Mean (final test loss)', 'Test loss ratio (default / best)',\n",
       "       'Test baseline', 'Interquartile range (final test loss)',\n",
       "       't best configuration [s]', 'Generalization error',\n",
       "       'Evaluations for best configuration', 'Crashes', '# training instances',\n",
       "       '# training features', '# test instances', '# test features', 'dataset',\n",
       "       '# cont. HPs', '# int. HPs', '# cat. HPs', 'loss_metric',\n",
       "       'HPO suitability', 'Robustness',\n",
       "       'UR: Availability of a well documented library',\n",
       "       'UR: need for model transparency', 'UR: quality demands',\n",
       "       'User's programming ability'],\n",
       "      dtype='object')"
      ]
     },
     "metadata": {},
     "execution_count": 4
    }
   ],
   "source": [
    "dataset = 'turbofan'  # 'turbofan', 'scania', 'sensor', 'blisk', 'surface'\n",
    "ml_task = 'Regression'  # 'Regression', 'Binary Classification', 'Multiclass Classification'\n",
    "bm_base = True\n",
    "\n",
    "file_name = 'expanded_metrics_' + dataset + '.csv'\n",
    "maxr_fpath = os.path.join('C:/Users/Max/Desktop/BM_results', file_name)\n",
    "\n",
    "maxr = pd.read_csv(maxr_fpath, index_col=0)\n",
    "\n",
    "maxr.columns"
   ]
  },
  {
   "cell_type": "code",
   "execution_count": 5,
   "metadata": {},
   "outputs": [
    {
     "output_type": "execute_result",
     "data": {
      "text/plain": [
       "                               Trial-ID HPO-library HPO-method  \\\n",
       "0  e3c90f48-3ecb-426a-94d1-769dd6794e16        robo  Bohamiann   \n",
       "1  e3c90f48-3ecb-426a-94d1-769dd6794e16        robo  Bohamiann   \n",
       "2  e3c90f48-3ecb-426a-94d1-769dd6794e16        robo  Bohamiann   \n",
       "3  e3c90f48-3ecb-426a-94d1-769dd6794e16        robo  Bohamiann   \n",
       "4  e3c90f48-3ecb-426a-94d1-769dd6794e16        robo  Bohamiann   \n",
       "\n",
       "        ML-algorithm  Runs  Evaluations  Workers    GPU  Warmstart  \\\n",
       "0  AdaBoostRegressor     5        200.0        1  False      False   \n",
       "1  AdaBoostRegressor     5          NaN        1  False      False   \n",
       "2  AdaBoostRegressor     5        200.0        1  False      False   \n",
       "3  AdaBoostRegressor     5          NaN        1  False      False   \n",
       "4  AdaBoostRegressor     5        200.0        1  False      False   \n",
       "\n",
       "   Wall clock time [s]  ...  # cont. HPs  # int. HPs  # cat. HPs  loss_metric  \\\n",
       "0           415.614018  ...            1           2           1     RUL-loss   \n",
       "1            40.000000  ...            1           2           1     RUL-loss   \n",
       "2           415.614018  ...            1           2           1     RUL-loss   \n",
       "3            40.000000  ...            1           2           1     RUL-loss   \n",
       "4           415.614018  ...            1           2           1     RUL-loss   \n",
       "\n",
       "   HPO suitability  Robustness  UR: Availability of a well documented library  \\\n",
       "0               no        high                                            yes   \n",
       "1               no        high                                            yes   \n",
       "2               no         low                                            yes   \n",
       "3               no         low                                            yes   \n",
       "4               no        high                                             no   \n",
       "\n",
       "   UR: need for model transparency  UR: quality demands  \\\n",
       "0                              yes                 high   \n",
       "1                              yes                 high   \n",
       "2                              yes                 high   \n",
       "3                              yes                 high   \n",
       "4                              yes                 high   \n",
       "\n",
       "   User's programming ability  \n",
       "0                         low  \n",
       "1                         low  \n",
       "2                         low  \n",
       "3                         low  \n",
       "4                         low  \n",
       "\n",
       "[5 rows x 37 columns]"
      ],
      "text/html": "<div>\n<style scoped>\n    .dataframe tbody tr th:only-of-type {\n        vertical-align: middle;\n    }\n\n    .dataframe tbody tr th {\n        vertical-align: top;\n    }\n\n    .dataframe thead th {\n        text-align: right;\n    }\n</style>\n<table border=\"1\" class=\"dataframe\">\n  <thead>\n    <tr style=\"text-align: right;\">\n      <th></th>\n      <th>Trial-ID</th>\n      <th>HPO-library</th>\n      <th>HPO-method</th>\n      <th>ML-algorithm</th>\n      <th>Runs</th>\n      <th>Evaluations</th>\n      <th>Workers</th>\n      <th>GPU</th>\n      <th>Warmstart</th>\n      <th>Wall clock time [s]</th>\n      <th>...</th>\n      <th># cont. HPs</th>\n      <th># int. HPs</th>\n      <th># cat. HPs</th>\n      <th>loss_metric</th>\n      <th>HPO suitability</th>\n      <th>Robustness</th>\n      <th>UR: Availability of a well documented library</th>\n      <th>UR: need for model transparency</th>\n      <th>UR: quality demands</th>\n      <th>User's programming ability</th>\n    </tr>\n  </thead>\n  <tbody>\n    <tr>\n      <th>0</th>\n      <td>e3c90f48-3ecb-426a-94d1-769dd6794e16</td>\n      <td>robo</td>\n      <td>Bohamiann</td>\n      <td>AdaBoostRegressor</td>\n      <td>5</td>\n      <td>200.0</td>\n      <td>1</td>\n      <td>False</td>\n      <td>False</td>\n      <td>415.614018</td>\n      <td>...</td>\n      <td>1</td>\n      <td>2</td>\n      <td>1</td>\n      <td>RUL-loss</td>\n      <td>no</td>\n      <td>high</td>\n      <td>yes</td>\n      <td>yes</td>\n      <td>high</td>\n      <td>low</td>\n    </tr>\n    <tr>\n      <th>1</th>\n      <td>e3c90f48-3ecb-426a-94d1-769dd6794e16</td>\n      <td>robo</td>\n      <td>Bohamiann</td>\n      <td>AdaBoostRegressor</td>\n      <td>5</td>\n      <td>NaN</td>\n      <td>1</td>\n      <td>False</td>\n      <td>False</td>\n      <td>40.000000</td>\n      <td>...</td>\n      <td>1</td>\n      <td>2</td>\n      <td>1</td>\n      <td>RUL-loss</td>\n      <td>no</td>\n      <td>high</td>\n      <td>yes</td>\n      <td>yes</td>\n      <td>high</td>\n      <td>low</td>\n    </tr>\n    <tr>\n      <th>2</th>\n      <td>e3c90f48-3ecb-426a-94d1-769dd6794e16</td>\n      <td>robo</td>\n      <td>Bohamiann</td>\n      <td>AdaBoostRegressor</td>\n      <td>5</td>\n      <td>200.0</td>\n      <td>1</td>\n      <td>False</td>\n      <td>False</td>\n      <td>415.614018</td>\n      <td>...</td>\n      <td>1</td>\n      <td>2</td>\n      <td>1</td>\n      <td>RUL-loss</td>\n      <td>no</td>\n      <td>low</td>\n      <td>yes</td>\n      <td>yes</td>\n      <td>high</td>\n      <td>low</td>\n    </tr>\n    <tr>\n      <th>3</th>\n      <td>e3c90f48-3ecb-426a-94d1-769dd6794e16</td>\n      <td>robo</td>\n      <td>Bohamiann</td>\n      <td>AdaBoostRegressor</td>\n      <td>5</td>\n      <td>NaN</td>\n      <td>1</td>\n      <td>False</td>\n      <td>False</td>\n      <td>40.000000</td>\n      <td>...</td>\n      <td>1</td>\n      <td>2</td>\n      <td>1</td>\n      <td>RUL-loss</td>\n      <td>no</td>\n      <td>low</td>\n      <td>yes</td>\n      <td>yes</td>\n      <td>high</td>\n      <td>low</td>\n    </tr>\n    <tr>\n      <th>4</th>\n      <td>e3c90f48-3ecb-426a-94d1-769dd6794e16</td>\n      <td>robo</td>\n      <td>Bohamiann</td>\n      <td>AdaBoostRegressor</td>\n      <td>5</td>\n      <td>200.0</td>\n      <td>1</td>\n      <td>False</td>\n      <td>False</td>\n      <td>415.614018</td>\n      <td>...</td>\n      <td>1</td>\n      <td>2</td>\n      <td>1</td>\n      <td>RUL-loss</td>\n      <td>no</td>\n      <td>high</td>\n      <td>no</td>\n      <td>yes</td>\n      <td>high</td>\n      <td>low</td>\n    </tr>\n  </tbody>\n</table>\n<p>5 rows × 37 columns</p>\n</div>"
     },
     "metadata": {},
     "execution_count": 5
    }
   ],
   "source": [
    "maxr.head()"
   ]
  },
  {
   "cell_type": "markdown",
   "metadata": {},
   "source": [
    "# Input generation for the Expert System (Use Cases)"
   ]
  },
  {
   "cell_type": "code",
   "execution_count": 6,
   "metadata": {},
   "outputs": [],
   "source": [
    "# Mapping between BRB and BM notation\n",
    "\n",
    "# Map ML algorithms: BRB -> BM\n",
    "# TODO: Needs to be expanded to include classification algorithms\n",
    "\n",
    "if ml_task == 'Regression':\n",
    "    \n",
    "    ml_brb2bm_map = {\n",
    "        'AdaBoost': 'AdaBoostRegressor',\n",
    "        'Decision Tree': 'DecisionTreeRegressor',\n",
    "        'Support Vector Machine': 'SVR',\n",
    "        'KNN': 'KNNRegressor',\n",
    "        'LightGBM': 'LGBMRegressor',\n",
    "        'Random Forest': 'RandomForestRegressor',\n",
    "        'XGBoost': 'XGBoostRegressor',\n",
    "        'Elastic Net': 'ElasticNet',\n",
    "        'Multilayer Perceptron': 'KerasRegressor'\n",
    "    }\n",
    "\n",
    "elif ml_task == 'Binary Classification' or ml_task == 'Multiclass Classification':\n",
    "\n",
    "    ml_brb2bm_map = {\n",
    "        'AdaBoost': 'AdaBoostClassifier',\n",
    "        'Decision Tree': 'DecisionTreeClassifier',\n",
    "        'Support Vector Machine': 'SVC',\n",
    "        'KNN': 'KNNClassifier',\n",
    "        'LightGBM': 'LGBMClassifier',\n",
    "        'Random Forest': 'RandomForestClassifier',\n",
    "        'XGBoost': 'XGBoostClassifier',\n",
    "        'Logistic Regression': 'LogisticRegression',\n",
    "        'Multilayer Perceptron': 'KerasClassifier',\n",
    "        'Naive Bayes': 'NaiveBayes'\n",
    "    }\n",
    "\n",
    "else:\n",
    "    raise Exception('Unknown ML task!')\n",
    "\n",
    "# Map ML algorithms: BM -> BRB\n",
    "ml_bm2brb_map = {v: k for k, v in ml_brb2bm_map.items()}\n",
    "\n",
    "# Map HPO techniques: BRB -> BM\n",
    "hpo_brb2bm_map = {\n",
    "    'BOHAMIANN': 'Bohamiann',\n",
    "    'BOHB': 'BOHB',\n",
    "    'CMA-ES': 'CMA-ES',\n",
    "    'FABOLAS': 'Fabolas',\n",
    "    'GPBO': 'GPBO',\n",
    "    'HB': 'Hyperband',\n",
    "    'Random Search': 'RandomSearch',\n",
    "    'SMAC': 'SMAC',\n",
    "    'TPE': 'TPE',\n",
    "    'Default Values': 'Default Values'\n",
    "}\n",
    "\n",
    "# Map HPO techniques: BM -> BRB\n",
    "hpo_bm2brb_map = {v: k for k, v in hpo_brb2bm_map.items()}\n",
    "\n",
    "# Map warm tart notation: BRB -> BM\n",
    "wst_brb2bm_map = {'yes': True, 'no': False}\n",
    "\n",
    "wst_bm2brb_map = {v: k for k, v in wst_brb2bm_map.items()}\n",
    "\n",
    "# Map ML algorithms with HP data types\n",
    "bmalgo2paratype_map = {\n",
    "    'RandomForestRegressor': '[continuous, discrete, nominal]',\n",
    "    'RandomForestClassifier': '[continuous, discrete, nominal]',\n",
    "    'MLPRegressor': '[discrete, nominal]',\n",
    "    'MLPClassifier': '[discrete, nominal]',\n",
    "    'SVR': '[continuous, nominal]',\n",
    "    'SVC': '[continuous, nominal]',\n",
    "    'KerasRegressor': '[continuous, discrete, nominal]',\n",
    "    'KerasClassifier': '[continuous, discrete, nominal]',\n",
    "    'XGBoostClassifier': '[continuous, discrete, nominal]',\n",
    "    'XGBoostRegressor': '[continuous, discrete, nominal]',\n",
    "    'AdaBoostRegressor': '[continuous, discrete, nominal]',\n",
    "    'AdaBoostClassifier': '[continuous, discrete, nominal]',\n",
    "    'DecisionTreeRegressor': '[continuous, discrete]',\n",
    "    'DecisionTreeClassifier': '[continuous, discrete]',\n",
    "    'LinearRegression': '[nominal]',\n",
    "    'KNNRegressor': '[discrete, nominal]',\n",
    "    'KNNClassifier': '[discrete, nominal]',\n",
    "    'LGBMRegressor': '[continuous, discrete]',\n",
    "    'LGBMClassifier': '[continuous, discrete]',\n",
    "    'LogisticRegression': '[continuous, discrete, nominal]',\n",
    "    'ElasticNet': '[continuous, discrete, nominal]',\n",
    "    'NaiveBayes': '[continuous]'}\n",
    "\n",
    "# Map ML algorithms with conditional / non-conditional HPs\n",
    "bmalgo2cond_map = {\n",
    "    'RandomForestRegressor': 'no',\n",
    "    'RandomForestClassifier': 'no',\n",
    "    'MLPRegressor': 'no',\n",
    "    'MLPClassifier': 'no',\n",
    "    'SVR': 'no',\n",
    "    'SVC': 'no',\n",
    "    'KerasRegressor': 'no',\n",
    "    'KerasClassifier': 'no',\n",
    "    'XGBoostClassifier': 'yes',\n",
    "    'XGBoostRegressor': 'yes',\n",
    "    'AdaBoostRegressor': 'no',\n",
    "    'AdaBoostClassifier': 'no',\n",
    "    'DecisionTreeRegressor': 'no',\n",
    "    'DecisionTreeClassifier': 'no',\n",
    "    'LinearRegression': 'no',\n",
    "    'KNNRegressor': 'no',\n",
    "    'KNNClassifier': 'no',\n",
    "    'LGBMRegressor': 'no',\n",
    "    'LGBMClassifier': 'no',\n",
    "    'LogisticRegression': 'no',\n",
    "    'ElasticNet': 'no',\n",
    "    'NaiveBayes': 'no'}\n",
    "\n",
    "gpu_cpu_map = {\n",
    "    False: 'CPU',\n",
    "    True: 'GPU'\n",
    "}\n",
    "\n",
    "# Map dataset information with some (constant) antecedents\n",
    "datset2constant_map = {\n",
    "    'turbofan': {\n",
    "        \"Detailed ML task\": 'Remaining Useful Lifetime',\n",
    "        \"Production application area\": 'Predictive Maintenance',\n",
    "        \"Input Data\": 'Tabular Data',\n",
    "        \"Ratio training to test dataset\": 4,\n",
    "        \"ML task\": 'Regression',\n",
    "        \"Loss function\": 'customized',\n",
    "        \"Special properties of loss function\": 'Exponential'\n",
    "        },\n",
    "    'scania': {\n",
    "        \"Detailed ML task\": 'Part Failure',\n",
    "        \"Production application area\": 'Predictive Maintenance',\n",
    "        \"Input Data\": 'Tabular Data',\n",
    "        \"Ratio training to test dataset\": 4,\n",
    "        \"ML task\": 'Binary Classification',\n",
    "        \"Loss function\": 'F1-loss', #TODO: Define loss function\n",
    "        \"Special properties of loss function\": ''\n",
    "    },\n",
    "    'sensor': {\n",
    "        \"Detailed ML task\": 'Product Quality',\n",
    "        \"Production application area\": 'Predictive Quality',\n",
    "        \"Input Data\": 'Tabular Data',\n",
    "        \"Ratio training to test dataset\": 4,\n",
    "        \"ML task\": 'Multiclass Classification',\n",
    "        \"Loss function\": 'F1-loss', # TODO: Define loss function\n",
    "        \"Special properties of loss function\": ''\n",
    "    },\n",
    "    'blisk': {\n",
    "        \"Detailed ML task\": 'Time Series Prediction',\n",
    "        \"Production application area\": 'Process Parameter Prediction',\n",
    "        \"Input Data\": 'Tabular Data',\n",
    "        \"Ratio training to test dataset\": 4,\n",
    "        \"ML task\": 'Regression',\n",
    "        \"Loss function\": 'RMSE', # TODO: Define loss function\n",
    "        \"Special properties of loss function\": ''\n",
    "    },\n",
    "    'surface': {\n",
    "        \"Detailed ML task\": 'Image Recognition',\n",
    "        \"Production application area\": 'Predictive Quality',\n",
    "        \"Input Data\": 'Tabular Data',\n",
    "        \"Ratio training to test dataset\": 4,\n",
    "        \"ML task\": 'Binary Classification',\n",
    "        \"Loss function\": 'F1-loss', # TODO: Define loss function\n",
    "        \"Special properties of loss function\": ''\n",
    "    }\n",
    "}"
   ]
  },
  {
   "cell_type": "code",
   "execution_count": 7,
   "metadata": {},
   "outputs": [],
   "source": [
    "# Create a DataFrame to store the use cases for the evaluation of the BRBES (each row corresponds to a single use case)\n",
    "df_use_case = pd.DataFrame([])\n",
    "df_use_case['Machine Learning Algorithm'] = maxr['ML-algorithm'].map(ml_bm2brb_map)\n",
    "df_use_case['Hardware: Number of workers/kernels for parallel computing'] = maxr['Workers']\n",
    "df_use_case['Availability of a warm-start HP configuration'] = maxr['Warmstart'].map(wst_bm2brb_map)\n",
    "df_use_case['Number of maximum function evaluations/ trials budget'] = maxr['Evaluations']\n",
    "# df_use_case['Running time per trial [s]'] = [interval[0, 30]] * len(maxr['ML-algorithm']) # TODO: Calculation necessary\n",
    "df_use_case['Running time per trial [s]'] = maxr['Wall clock time [s]'] / maxr['Evaluations']\n",
    "df_use_case['Total Computing Time [s]'] = maxr['Wall clock time [s]']\n",
    "df_use_case['Dimensionality of HPs'] = maxr['# cont. HPs'] + maxr['# int. HPs'] + maxr['# cat. HPs']\n",
    "df_use_case['HP datatypes'] = maxr['ML-algorithm'].map(bmalgo2paratype_map)\n",
    "df_use_case['Conditional HP space'] = maxr['ML-algorithm'].map(bmalgo2cond_map)\n",
    "df_use_case[\"Detailed ML task\"] = datset2constant_map[dataset][\"Detailed ML task\"]\n",
    "df_use_case[\"Production application area\"] = datset2constant_map[dataset][\"Production application area\"]\n",
    "df_use_case['Input Data'] = datset2constant_map[dataset][\"Input Data\"]\n",
    "df_use_case['#Instances training dataset'] = maxr['# training instances']\n",
    "df_use_case['Ratio training to test dataset'] = datset2constant_map[dataset][\"Ratio training to test dataset\"]\n",
    "df_use_case['ML task'] = datset2constant_map[dataset][\"ML task\"]\n",
    "df_use_case[\"UR: need for model transparency\"] = maxr[\"UR: need for model transparency\"]\n",
    "df_use_case[\"UR: Availability of a well documented library\"] = maxr[\"UR: Availability of a well documented library\"]\n",
    "df_use_case[\"User's programming ability\"] = maxr[\"User's programming ability\"]\n",
    "\n",
    "# fixed antecedents (cannot yet be derived from the metrics .csv file)\n",
    "df_use_case[\"UR: quality demands\"] = maxr[\"UR: quality demands\"]\n",
    "df_use_case[\"UR: Computer operating system\"] = 'Linux'\n",
    "df_use_case[\"Obtainability of good approximate\"] = [{'yes':0.5, 'no':0.5}] * len(maxr['ML-algorithm'])\n",
    "df_use_case[\"Supports parallel evaluations\"] = [{'yes':0.5, 'no':0.5}] * len(maxr['ML-algorithm'])\n",
    "df_use_case[\"Obtainability of gradients\"] = [{'yes':0.5, 'no':0.5}] * len(maxr['ML-algorithm'])\n",
    "df_use_case[\"Noise in dataset\"] = 'no'\n",
    "df_use_case[\"Training Technique\"] = \"Offline\"\n",
    "\n",
    "\n",
    "if bm_base:\n",
    "    df_use_case[\"CPU / GPU\"] = maxr['GPU'].map(gpu_cpu_map)\n",
    "    df_use_case[\"Loss function\"] = datset2constant_map[dataset]['Loss function']\n",
    "    df_use_case[\"Special properties of loss function\"] = datset2constant_map[dataset]['Special properties of loss function']\n",
    "    df_use_case['UR: Anytime Performance'] = 'low'  # TODO: iterate over different AP values (in expand_metrics.py)\n",
    "# 'Robustness' antecedent is not available for the current version of the rule base\n",
    "# df_use_case['Robustness'] = maxr['Robustness']\n"
   ]
  },
  {
   "cell_type": "code",
   "execution_count": 8,
   "metadata": {},
   "outputs": [],
   "source": [
    "# Columns with dict entries cause problems when identifying duplicates (not hashable)\n",
    "dict_cols = {'Obtainability of good approximate', 'Supports parallel evaluations', 'Obtainability of gradients', 'Noise in dataset'}\n",
    "non_dict_cols = set(df_use_case.columns) - dict_cols\n",
    "\n",
    "# Remove duplicate use cases (Each use case is contained x times, where x is the number of HPO techniques applied on this use case)\n",
    "df_use_case.drop_duplicates(subset=non_dict_cols, inplace=True, ignore_index=True)"
   ]
  },
  {
   "cell_type": "code",
   "execution_count": 9,
   "metadata": {},
   "outputs": [
    {
     "output_type": "execute_result",
     "data": {
      "text/plain": [
       "  Machine Learning Algorithm  \\\n",
       "0                   AdaBoost   \n",
       "1                   AdaBoost   \n",
       "2                   AdaBoost   \n",
       "3                   AdaBoost   \n",
       "4                   AdaBoost   \n",
       "\n",
       "   Hardware: Number of workers/kernels for parallel computing  \\\n",
       "0                                                  1            \n",
       "1                                                  1            \n",
       "2                                                  1            \n",
       "3                                                  1            \n",
       "4                                                  1            \n",
       "\n",
       "  Availability of a warm-start HP configuration  \\\n",
       "0                                            no   \n",
       "1                                            no   \n",
       "2                                            no   \n",
       "3                                            no   \n",
       "4                                            no   \n",
       "\n",
       "   Number of maximum function evaluations/ trials budget  \\\n",
       "0                                              200.0       \n",
       "1                                                NaN       \n",
       "2                                              200.0       \n",
       "3                                                NaN       \n",
       "4                                              200.0       \n",
       "\n",
       "   Running time per trial [s]  Total Computing Time [s]  \\\n",
       "0                     2.07807                415.614018   \n",
       "1                         NaN                 40.000000   \n",
       "2                     2.07807                415.614018   \n",
       "3                         NaN                 40.000000   \n",
       "4                     2.07807                415.614018   \n",
       "\n",
       "   Dimensionality of HPs                     HP datatypes  \\\n",
       "0                      4  [continuous, discrete, nominal]   \n",
       "1                      4  [continuous, discrete, nominal]   \n",
       "2                      4  [continuous, discrete, nominal]   \n",
       "3                      4  [continuous, discrete, nominal]   \n",
       "4                      4  [continuous, discrete, nominal]   \n",
       "\n",
       "  Conditional HP space           Detailed ML task  ...  \\\n",
       "0                   no  Remaining Useful Lifetime  ...   \n",
       "1                   no  Remaining Useful Lifetime  ...   \n",
       "2                   no  Remaining Useful Lifetime  ...   \n",
       "3                   no  Remaining Useful Lifetime  ...   \n",
       "4                   no  Remaining Useful Lifetime  ...   \n",
       "\n",
       "  UR: Computer operating system Obtainability of good approximate  \\\n",
       "0                         Linux           {'yes': 0.5, 'no': 0.5}   \n",
       "1                         Linux           {'yes': 0.5, 'no': 0.5}   \n",
       "2                         Linux           {'yes': 0.5, 'no': 0.5}   \n",
       "3                         Linux           {'yes': 0.5, 'no': 0.5}   \n",
       "4                         Linux           {'yes': 0.5, 'no': 0.5}   \n",
       "\n",
       "   Supports parallel evaluations  Obtainability of gradients Noise in dataset  \\\n",
       "0        {'yes': 0.5, 'no': 0.5}     {'yes': 0.5, 'no': 0.5}               no   \n",
       "1        {'yes': 0.5, 'no': 0.5}     {'yes': 0.5, 'no': 0.5}               no   \n",
       "2        {'yes': 0.5, 'no': 0.5}     {'yes': 0.5, 'no': 0.5}               no   \n",
       "3        {'yes': 0.5, 'no': 0.5}     {'yes': 0.5, 'no': 0.5}               no   \n",
       "4        {'yes': 0.5, 'no': 0.5}     {'yes': 0.5, 'no': 0.5}               no   \n",
       "\n",
       "  Training Technique CPU / GPU Loss function  \\\n",
       "0            Offline       CPU    customized   \n",
       "1            Offline       CPU    customized   \n",
       "2            Offline       CPU    customized   \n",
       "3            Offline       CPU    customized   \n",
       "4            Offline       CPU    customized   \n",
       "\n",
       "  Special properties of loss function UR: Anytime Performance  \n",
       "0                         Exponential                     low  \n",
       "1                         Exponential                     low  \n",
       "2                         Exponential                     low  \n",
       "3                         Exponential                     low  \n",
       "4                         Exponential                     low  \n",
       "\n",
       "[5 rows x 29 columns]"
      ],
      "text/html": "<div>\n<style scoped>\n    .dataframe tbody tr th:only-of-type {\n        vertical-align: middle;\n    }\n\n    .dataframe tbody tr th {\n        vertical-align: top;\n    }\n\n    .dataframe thead th {\n        text-align: right;\n    }\n</style>\n<table border=\"1\" class=\"dataframe\">\n  <thead>\n    <tr style=\"text-align: right;\">\n      <th></th>\n      <th>Machine Learning Algorithm</th>\n      <th>Hardware: Number of workers/kernels for parallel computing</th>\n      <th>Availability of a warm-start HP configuration</th>\n      <th>Number of maximum function evaluations/ trials budget</th>\n      <th>Running time per trial [s]</th>\n      <th>Total Computing Time [s]</th>\n      <th>Dimensionality of HPs</th>\n      <th>HP datatypes</th>\n      <th>Conditional HP space</th>\n      <th>Detailed ML task</th>\n      <th>...</th>\n      <th>UR: Computer operating system</th>\n      <th>Obtainability of good approximate</th>\n      <th>Supports parallel evaluations</th>\n      <th>Obtainability of gradients</th>\n      <th>Noise in dataset</th>\n      <th>Training Technique</th>\n      <th>CPU / GPU</th>\n      <th>Loss function</th>\n      <th>Special properties of loss function</th>\n      <th>UR: Anytime Performance</th>\n    </tr>\n  </thead>\n  <tbody>\n    <tr>\n      <th>0</th>\n      <td>AdaBoost</td>\n      <td>1</td>\n      <td>no</td>\n      <td>200.0</td>\n      <td>2.07807</td>\n      <td>415.614018</td>\n      <td>4</td>\n      <td>[continuous, discrete, nominal]</td>\n      <td>no</td>\n      <td>Remaining Useful Lifetime</td>\n      <td>...</td>\n      <td>Linux</td>\n      <td>{'yes': 0.5, 'no': 0.5}</td>\n      <td>{'yes': 0.5, 'no': 0.5}</td>\n      <td>{'yes': 0.5, 'no': 0.5}</td>\n      <td>no</td>\n      <td>Offline</td>\n      <td>CPU</td>\n      <td>customized</td>\n      <td>Exponential</td>\n      <td>low</td>\n    </tr>\n    <tr>\n      <th>1</th>\n      <td>AdaBoost</td>\n      <td>1</td>\n      <td>no</td>\n      <td>NaN</td>\n      <td>NaN</td>\n      <td>40.000000</td>\n      <td>4</td>\n      <td>[continuous, discrete, nominal]</td>\n      <td>no</td>\n      <td>Remaining Useful Lifetime</td>\n      <td>...</td>\n      <td>Linux</td>\n      <td>{'yes': 0.5, 'no': 0.5}</td>\n      <td>{'yes': 0.5, 'no': 0.5}</td>\n      <td>{'yes': 0.5, 'no': 0.5}</td>\n      <td>no</td>\n      <td>Offline</td>\n      <td>CPU</td>\n      <td>customized</td>\n      <td>Exponential</td>\n      <td>low</td>\n    </tr>\n    <tr>\n      <th>2</th>\n      <td>AdaBoost</td>\n      <td>1</td>\n      <td>no</td>\n      <td>200.0</td>\n      <td>2.07807</td>\n      <td>415.614018</td>\n      <td>4</td>\n      <td>[continuous, discrete, nominal]</td>\n      <td>no</td>\n      <td>Remaining Useful Lifetime</td>\n      <td>...</td>\n      <td>Linux</td>\n      <td>{'yes': 0.5, 'no': 0.5}</td>\n      <td>{'yes': 0.5, 'no': 0.5}</td>\n      <td>{'yes': 0.5, 'no': 0.5}</td>\n      <td>no</td>\n      <td>Offline</td>\n      <td>CPU</td>\n      <td>customized</td>\n      <td>Exponential</td>\n      <td>low</td>\n    </tr>\n    <tr>\n      <th>3</th>\n      <td>AdaBoost</td>\n      <td>1</td>\n      <td>no</td>\n      <td>NaN</td>\n      <td>NaN</td>\n      <td>40.000000</td>\n      <td>4</td>\n      <td>[continuous, discrete, nominal]</td>\n      <td>no</td>\n      <td>Remaining Useful Lifetime</td>\n      <td>...</td>\n      <td>Linux</td>\n      <td>{'yes': 0.5, 'no': 0.5}</td>\n      <td>{'yes': 0.5, 'no': 0.5}</td>\n      <td>{'yes': 0.5, 'no': 0.5}</td>\n      <td>no</td>\n      <td>Offline</td>\n      <td>CPU</td>\n      <td>customized</td>\n      <td>Exponential</td>\n      <td>low</td>\n    </tr>\n    <tr>\n      <th>4</th>\n      <td>AdaBoost</td>\n      <td>1</td>\n      <td>no</td>\n      <td>200.0</td>\n      <td>2.07807</td>\n      <td>415.614018</td>\n      <td>4</td>\n      <td>[continuous, discrete, nominal]</td>\n      <td>no</td>\n      <td>Remaining Useful Lifetime</td>\n      <td>...</td>\n      <td>Linux</td>\n      <td>{'yes': 0.5, 'no': 0.5}</td>\n      <td>{'yes': 0.5, 'no': 0.5}</td>\n      <td>{'yes': 0.5, 'no': 0.5}</td>\n      <td>no</td>\n      <td>Offline</td>\n      <td>CPU</td>\n      <td>customized</td>\n      <td>Exponential</td>\n      <td>low</td>\n    </tr>\n  </tbody>\n</table>\n<p>5 rows × 29 columns</p>\n</div>"
     },
     "metadata": {},
     "execution_count": 9
    }
   ],
   "source": [
    "df_use_case.head()"
   ]
  },
  {
   "cell_type": "markdown",
   "metadata": {},
   "source": [
    "# Run the BRBES for the BM use cases"
   ]
  },
  {
   "cell_type": "code",
   "execution_count": 10,
   "metadata": {},
   "outputs": [
    {
     "output_type": "execute_result",
     "data": {
      "text/plain": [
       "Index(['Machine Learning Algorithm',\n",
       "       'Hardware: Number of workers/kernels for parallel computing',\n",
       "       'Availability of a warm-start HP configuration',\n",
       "       'Number of maximum function evaluations/ trials budget',\n",
       "       'Running time per trial [s]', 'Total Computing Time [s]',\n",
       "       'Dimensionality of HPs', 'HP datatypes', 'Conditional HP space',\n",
       "       'Detailed ML task', 'Production application area', 'Input Data',\n",
       "       '#Instances training dataset', 'Ratio training to test dataset',\n",
       "       'ML task', 'UR: need for model transparency',\n",
       "       'UR: Availability of a well documented library',\n",
       "       'User's programming ability', 'UR: quality demands',\n",
       "       'UR: Computer operating system', 'Obtainability of good approximate',\n",
       "       'Supports parallel evaluations', 'Obtainability of gradients',\n",
       "       'Noise in dataset', 'Training Technique', 'CPU / GPU', 'Loss function',\n",
       "       'Special properties of loss function', 'UR: Anytime Performance'],\n",
       "      dtype='object')"
      ]
     },
     "metadata": {},
     "execution_count": 10
    }
   ],
   "source": [
    "df_use_case.columns"
   ]
  },
  {
   "cell_type": "code",
   "execution_count": 11,
   "metadata": {},
   "outputs": [],
   "source": [
    "X_use_case = preprocess_X(df_use_case)"
   ]
  },
  {
   "cell_type": "code",
   "execution_count": 12,
   "metadata": {},
   "outputs": [],
   "source": [
    "median_t_per_trial = X_use_case['Running time per trial [s]'].median()\n",
    "X_use_case.loc[:, 'Running time per trial [s]'].fillna(value=median_t_per_trial, inplace=True)"
   ]
  },
  {
   "cell_type": "code",
   "execution_count": 13,
   "metadata": {},
   "outputs": [],
   "source": [
    "train_cols = set(X_train.columns)\n",
    "test_cols = set(X_use_case.columns)\n",
    "diff_cols1 = train_cols - test_cols"
   ]
  },
  {
   "cell_type": "code",
   "execution_count": 14,
   "metadata": {},
   "outputs": [],
   "source": [
    "for col in diff_cols1:\n",
    "    X_use_case.loc[:, col] = 0"
   ]
  },
  {
   "cell_type": "code",
   "execution_count": 15,
   "metadata": {},
   "outputs": [],
   "source": [
    "train_cols = set(X_train.columns)\n",
    "test_cols = set(X_use_case.columns)\n",
    "diff_cols2 = test_cols - train_cols"
   ]
  },
  {
   "cell_type": "code",
   "execution_count": 16,
   "metadata": {},
   "outputs": [],
   "source": [
    "for col in diff_cols2:\n",
    "    X_use_case.drop(col, axis=1, inplace=True)"
   ]
  },
  {
   "cell_type": "code",
   "execution_count": 17,
   "metadata": {},
   "outputs": [],
   "source": [
    "y_pred = pd.DataFrame(model.predict(X_use_case), columns=y_train.columns)"
   ]
  },
  {
   "cell_type": "code",
   "execution_count": 18,
   "metadata": {},
   "outputs": [
    {
     "output_type": "execute_result",
     "data": {
      "text/plain": [
       "<AxesSubplot:>"
      ]
     },
     "metadata": {},
     "execution_count": 18
    },
    {
     "output_type": "display_data",
     "data": {
      "text/plain": "<Figure size 432x288 with 1 Axes>",
      "image/svg+xml": "<?xml version=\"1.0\" encoding=\"utf-8\" standalone=\"no\"?>\r\n<!DOCTYPE svg PUBLIC \"-//W3C//DTD SVG 1.1//EN\"\r\n  \"http://www.w3.org/Graphics/SVG/1.1/DTD/svg11.dtd\">\r\n<!-- Created with matplotlib (https://matplotlib.org/) -->\r\n<svg height=\"251.154852pt\" version=\"1.1\" viewBox=\"0 0 375.2875 251.154852\" width=\"375.2875pt\" xmlns=\"http://www.w3.org/2000/svg\" xmlns:xlink=\"http://www.w3.org/1999/xlink\">\r\n <metadata>\r\n  <rdf:RDF xmlns:cc=\"http://creativecommons.org/ns#\" xmlns:dc=\"http://purl.org/dc/elements/1.1/\" xmlns:rdf=\"http://www.w3.org/1999/02/22-rdf-syntax-ns#\">\r\n   <cc:Work>\r\n    <dc:type rdf:resource=\"http://purl.org/dc/dcmitype/StillImage\"/>\r\n    <dc:date>2021-01-29T10:00:34.334518</dc:date>\r\n    <dc:format>image/svg+xml</dc:format>\r\n    <dc:creator>\r\n     <cc:Agent>\r\n      <dc:title>Matplotlib v3.3.2, https://matplotlib.org/</dc:title>\r\n     </cc:Agent>\r\n    </dc:creator>\r\n   </cc:Work>\r\n  </rdf:RDF>\r\n </metadata>\r\n <defs>\r\n  <style type=\"text/css\">*{stroke-linecap:butt;stroke-linejoin:round;}</style>\r\n </defs>\r\n <g id=\"figure_1\">\r\n  <g id=\"patch_1\">\r\n   <path d=\"M 0 251.154852 \r\nL 375.2875 251.154852 \r\nL 375.2875 0 \r\nL 0 0 \r\nz\r\n\" style=\"fill:none;\"/>\r\n  </g>\r\n  <g id=\"axes_1\">\r\n   <g id=\"patch_2\">\r\n    <path d=\"M 33.2875 227.276727 \r\nL 368.0875 227.276727 \r\nL 368.0875 9.836727 \r\nL 33.2875 9.836727 \r\nz\r\n\" style=\"fill:#ffffff;\"/>\r\n   </g>\r\n   <g id=\"patch_3\">\r\n    <path clip-path=\"url(#p67fe7265ab)\" d=\"M 48.505682 227.276727 \r\nL 78.942045 227.276727 \r\nL 78.942045 20.191013 \r\nL 48.505682 20.191013 \r\nz\r\n\" style=\"fill:#1f77b4;\"/>\r\n   </g>\r\n   <g id=\"patch_4\">\r\n    <path clip-path=\"url(#p67fe7265ab)\" d=\"M 78.942045 227.276727 \r\nL 109.378409 227.276727 \r\nL 109.378409 218.625627 \r\nL 78.942045 218.625627 \r\nz\r\n\" style=\"fill:#1f77b4;\"/>\r\n   </g>\r\n   <g id=\"patch_5\">\r\n    <path clip-path=\"url(#p67fe7265ab)\" d=\"M 109.378409 227.276727 \r\nL 139.814773 227.276727 \r\nL 139.814773 213.218689 \r\nL 109.378409 213.218689 \r\nz\r\n\" style=\"fill:#1f77b4;\"/>\r\n   </g>\r\n   <g id=\"patch_6\">\r\n    <path clip-path=\"url(#p67fe7265ab)\" d=\"M 139.814773 227.276727 \r\nL 170.251136 227.276727 \r\nL 170.251136 227.276727 \r\nL 139.814773 227.276727 \r\nz\r\n\" style=\"fill:#1f77b4;\"/>\r\n   </g>\r\n   <g id=\"patch_7\">\r\n    <path clip-path=\"url(#p67fe7265ab)\" d=\"M 170.251136 227.276727 \r\nL 200.6875 227.276727 \r\nL 200.6875 192.672326 \r\nL 170.251136 192.672326 \r\nz\r\n\" style=\"fill:#1f77b4;\"/>\r\n   </g>\r\n   <g id=\"patch_8\">\r\n    <path clip-path=\"url(#p67fe7265ab)\" d=\"M 200.6875 227.276727 \r\nL 231.123864 227.276727 \r\nL 231.123864 184.021225 \r\nL 200.6875 184.021225 \r\nz\r\n\" style=\"fill:#1f77b4;\"/>\r\n   </g>\r\n   <g id=\"patch_9\">\r\n    <path clip-path=\"url(#p67fe7265ab)\" d=\"M 231.123864 227.276727 \r\nL 261.560227 227.276727 \r\nL 261.560227 227.276727 \r\nL 231.123864 227.276727 \r\nz\r\n\" style=\"fill:#1f77b4;\"/>\r\n   </g>\r\n   <g id=\"patch_10\">\r\n    <path clip-path=\"url(#p67fe7265ab)\" d=\"M 261.560227 227.276727 \r\nL 291.996591 227.276727 \r\nL 291.996591 224.032565 \r\nL 261.560227 224.032565 \r\nz\r\n\" style=\"fill:#1f77b4;\"/>\r\n   </g>\r\n   <g id=\"patch_11\">\r\n    <path clip-path=\"url(#p67fe7265ab)\" d=\"M 291.996591 227.276727 \r\nL 322.432955 227.276727 \r\nL 322.432955 223.491871 \r\nL 291.996591 223.491871 \r\nz\r\n\" style=\"fill:#1f77b4;\"/>\r\n   </g>\r\n   <g id=\"patch_12\">\r\n    <path clip-path=\"url(#p67fe7265ab)\" d=\"M 322.432955 227.276727 \r\nL 352.869318 227.276727 \r\nL 352.869318 217.544239 \r\nL 322.432955 217.544239 \r\nz\r\n\" style=\"fill:#1f77b4;\"/>\r\n   </g>\r\n   <g id=\"matplotlib.axis_1\">\r\n    <g id=\"xtick_1\">\r\n     <g id=\"line2d_1\">\r\n      <path clip-path=\"url(#p67fe7265ab)\" d=\"M 48.505682 227.276727 \r\nL 48.505682 9.836727 \r\n\" style=\"fill:none;stroke:#b0b0b0;stroke-linecap:square;stroke-width:0.8;\"/>\r\n     </g>\r\n     <g id=\"line2d_2\">\r\n      <defs>\r\n       <path d=\"M 0 0 \r\nL 0 3.5 \r\n\" id=\"ma9a83e992b\" style=\"stroke:#000000;stroke-width:0.8;\"/>\r\n      </defs>\r\n      <g>\r\n       <use style=\"stroke:#000000;stroke-width:0.8;\" x=\"48.505682\" xlink:href=\"#ma9a83e992b\" y=\"227.276727\"/>\r\n      </g>\r\n     </g>\r\n     <g id=\"text_1\">\r\n      <!-- Default Values -->\r\n      <g transform=\"translate(12.311932 241.875165)scale(0.1 -0.1)\">\r\n       <defs>\r\n        <path d=\"M 19.671875 64.796875 \r\nL 19.671875 8.109375 \r\nL 31.59375 8.109375 \r\nQ 46.6875 8.109375 53.6875 14.9375 \r\nQ 60.6875 21.78125 60.6875 36.53125 \r\nQ 60.6875 51.171875 53.6875 57.984375 \r\nQ 46.6875 64.796875 31.59375 64.796875 \r\nz\r\nM 9.8125 72.90625 \r\nL 30.078125 72.90625 \r\nQ 51.265625 72.90625 61.171875 64.09375 \r\nQ 71.09375 55.28125 71.09375 36.53125 \r\nQ 71.09375 17.671875 61.125 8.828125 \r\nQ 51.171875 0 30.078125 0 \r\nL 9.8125 0 \r\nz\r\n\" id=\"DejaVuSans-68\"/>\r\n        <path d=\"M 56.203125 29.59375 \r\nL 56.203125 25.203125 \r\nL 14.890625 25.203125 \r\nQ 15.484375 15.921875 20.484375 11.0625 \r\nQ 25.484375 6.203125 34.421875 6.203125 \r\nQ 39.59375 6.203125 44.453125 7.46875 \r\nQ 49.3125 8.734375 54.109375 11.28125 \r\nL 54.109375 2.78125 \r\nQ 49.265625 0.734375 44.1875 -0.34375 \r\nQ 39.109375 -1.421875 33.890625 -1.421875 \r\nQ 20.796875 -1.421875 13.15625 6.1875 \r\nQ 5.515625 13.8125 5.515625 26.8125 \r\nQ 5.515625 40.234375 12.765625 48.109375 \r\nQ 20.015625 56 32.328125 56 \r\nQ 43.359375 56 49.78125 48.890625 \r\nQ 56.203125 41.796875 56.203125 29.59375 \r\nz\r\nM 47.21875 32.234375 \r\nQ 47.125 39.59375 43.09375 43.984375 \r\nQ 39.0625 48.390625 32.421875 48.390625 \r\nQ 24.90625 48.390625 20.390625 44.140625 \r\nQ 15.875 39.890625 15.1875 32.171875 \r\nz\r\n\" id=\"DejaVuSans-101\"/>\r\n        <path d=\"M 37.109375 75.984375 \r\nL 37.109375 68.5 \r\nL 28.515625 68.5 \r\nQ 23.6875 68.5 21.796875 66.546875 \r\nQ 19.921875 64.59375 19.921875 59.515625 \r\nL 19.921875 54.6875 \r\nL 34.71875 54.6875 \r\nL 34.71875 47.703125 \r\nL 19.921875 47.703125 \r\nL 19.921875 0 \r\nL 10.890625 0 \r\nL 10.890625 47.703125 \r\nL 2.296875 47.703125 \r\nL 2.296875 54.6875 \r\nL 10.890625 54.6875 \r\nL 10.890625 58.5 \r\nQ 10.890625 67.625 15.140625 71.796875 \r\nQ 19.390625 75.984375 28.609375 75.984375 \r\nz\r\n\" id=\"DejaVuSans-102\"/>\r\n        <path d=\"M 34.28125 27.484375 \r\nQ 23.390625 27.484375 19.1875 25 \r\nQ 14.984375 22.515625 14.984375 16.5 \r\nQ 14.984375 11.71875 18.140625 8.90625 \r\nQ 21.296875 6.109375 26.703125 6.109375 \r\nQ 34.1875 6.109375 38.703125 11.40625 \r\nQ 43.21875 16.703125 43.21875 25.484375 \r\nL 43.21875 27.484375 \r\nz\r\nM 52.203125 31.203125 \r\nL 52.203125 0 \r\nL 43.21875 0 \r\nL 43.21875 8.296875 \r\nQ 40.140625 3.328125 35.546875 0.953125 \r\nQ 30.953125 -1.421875 24.3125 -1.421875 \r\nQ 15.921875 -1.421875 10.953125 3.296875 \r\nQ 6 8.015625 6 15.921875 \r\nQ 6 25.140625 12.171875 29.828125 \r\nQ 18.359375 34.515625 30.609375 34.515625 \r\nL 43.21875 34.515625 \r\nL 43.21875 35.40625 \r\nQ 43.21875 41.609375 39.140625 45 \r\nQ 35.0625 48.390625 27.6875 48.390625 \r\nQ 23 48.390625 18.546875 47.265625 \r\nQ 14.109375 46.140625 10.015625 43.890625 \r\nL 10.015625 52.203125 \r\nQ 14.9375 54.109375 19.578125 55.046875 \r\nQ 24.21875 56 28.609375 56 \r\nQ 40.484375 56 46.34375 49.84375 \r\nQ 52.203125 43.703125 52.203125 31.203125 \r\nz\r\n\" id=\"DejaVuSans-97\"/>\r\n        <path d=\"M 8.5 21.578125 \r\nL 8.5 54.6875 \r\nL 17.484375 54.6875 \r\nL 17.484375 21.921875 \r\nQ 17.484375 14.15625 20.5 10.265625 \r\nQ 23.53125 6.390625 29.59375 6.390625 \r\nQ 36.859375 6.390625 41.078125 11.03125 \r\nQ 45.3125 15.671875 45.3125 23.6875 \r\nL 45.3125 54.6875 \r\nL 54.296875 54.6875 \r\nL 54.296875 0 \r\nL 45.3125 0 \r\nL 45.3125 8.40625 \r\nQ 42.046875 3.421875 37.71875 1 \r\nQ 33.40625 -1.421875 27.6875 -1.421875 \r\nQ 18.265625 -1.421875 13.375 4.4375 \r\nQ 8.5 10.296875 8.5 21.578125 \r\nz\r\nM 31.109375 56 \r\nz\r\n\" id=\"DejaVuSans-117\"/>\r\n        <path d=\"M 9.421875 75.984375 \r\nL 18.40625 75.984375 \r\nL 18.40625 0 \r\nL 9.421875 0 \r\nz\r\n\" id=\"DejaVuSans-108\"/>\r\n        <path d=\"M 18.3125 70.21875 \r\nL 18.3125 54.6875 \r\nL 36.8125 54.6875 \r\nL 36.8125 47.703125 \r\nL 18.3125 47.703125 \r\nL 18.3125 18.015625 \r\nQ 18.3125 11.328125 20.140625 9.421875 \r\nQ 21.96875 7.515625 27.59375 7.515625 \r\nL 36.8125 7.515625 \r\nL 36.8125 0 \r\nL 27.59375 0 \r\nQ 17.1875 0 13.234375 3.875 \r\nQ 9.28125 7.765625 9.28125 18.015625 \r\nL 9.28125 47.703125 \r\nL 2.6875 47.703125 \r\nL 2.6875 54.6875 \r\nL 9.28125 54.6875 \r\nL 9.28125 70.21875 \r\nz\r\n\" id=\"DejaVuSans-116\"/>\r\n        <path id=\"DejaVuSans-32\"/>\r\n        <path d=\"M 28.609375 0 \r\nL 0.78125 72.90625 \r\nL 11.078125 72.90625 \r\nL 34.1875 11.53125 \r\nL 57.328125 72.90625 \r\nL 67.578125 72.90625 \r\nL 39.796875 0 \r\nz\r\n\" id=\"DejaVuSans-86\"/>\r\n        <path d=\"M 44.28125 53.078125 \r\nL 44.28125 44.578125 \r\nQ 40.484375 46.53125 36.375 47.5 \r\nQ 32.28125 48.484375 27.875 48.484375 \r\nQ 21.1875 48.484375 17.84375 46.4375 \r\nQ 14.5 44.390625 14.5 40.28125 \r\nQ 14.5 37.15625 16.890625 35.375 \r\nQ 19.28125 33.59375 26.515625 31.984375 \r\nL 29.59375 31.296875 \r\nQ 39.15625 29.25 43.1875 25.515625 \r\nQ 47.21875 21.78125 47.21875 15.09375 \r\nQ 47.21875 7.46875 41.1875 3.015625 \r\nQ 35.15625 -1.421875 24.609375 -1.421875 \r\nQ 20.21875 -1.421875 15.453125 -0.5625 \r\nQ 10.6875 0.296875 5.421875 2 \r\nL 5.421875 11.28125 \r\nQ 10.40625 8.6875 15.234375 7.390625 \r\nQ 20.0625 6.109375 24.8125 6.109375 \r\nQ 31.15625 6.109375 34.5625 8.28125 \r\nQ 37.984375 10.453125 37.984375 14.40625 \r\nQ 37.984375 18.0625 35.515625 20.015625 \r\nQ 33.0625 21.96875 24.703125 23.78125 \r\nL 21.578125 24.515625 \r\nQ 13.234375 26.265625 9.515625 29.90625 \r\nQ 5.8125 33.546875 5.8125 39.890625 \r\nQ 5.8125 47.609375 11.28125 51.796875 \r\nQ 16.75 56 26.8125 56 \r\nQ 31.78125 56 36.171875 55.265625 \r\nQ 40.578125 54.546875 44.28125 53.078125 \r\nz\r\n\" id=\"DejaVuSans-115\"/>\r\n       </defs>\r\n       <use xlink:href=\"#DejaVuSans-68\"/>\r\n       <use x=\"77.001953\" xlink:href=\"#DejaVuSans-101\"/>\r\n       <use x=\"138.525391\" xlink:href=\"#DejaVuSans-102\"/>\r\n       <use x=\"173.730469\" xlink:href=\"#DejaVuSans-97\"/>\r\n       <use x=\"235.009766\" xlink:href=\"#DejaVuSans-117\"/>\r\n       <use x=\"298.388672\" xlink:href=\"#DejaVuSans-108\"/>\r\n       <use x=\"326.171875\" xlink:href=\"#DejaVuSans-116\"/>\r\n       <use x=\"365.380859\" xlink:href=\"#DejaVuSans-32\"/>\r\n       <use x=\"397.167969\" xlink:href=\"#DejaVuSans-86\"/>\r\n       <use x=\"457.826172\" xlink:href=\"#DejaVuSans-97\"/>\r\n       <use x=\"519.105469\" xlink:href=\"#DejaVuSans-108\"/>\r\n       <use x=\"546.888672\" xlink:href=\"#DejaVuSans-117\"/>\r\n       <use x=\"610.267578\" xlink:href=\"#DejaVuSans-101\"/>\r\n       <use x=\"671.791016\" xlink:href=\"#DejaVuSans-115\"/>\r\n      </g>\r\n     </g>\r\n    </g>\r\n    <g id=\"xtick_2\">\r\n     <g id=\"line2d_3\">\r\n      <path clip-path=\"url(#p67fe7265ab)\" d=\"M 91.986201 227.276727 \r\nL 91.986201 9.836727 \r\n\" style=\"fill:none;stroke:#b0b0b0;stroke-linecap:square;stroke-width:0.8;\"/>\r\n     </g>\r\n     <g id=\"line2d_4\">\r\n      <g>\r\n       <use style=\"stroke:#000000;stroke-width:0.8;\" x=\"91.986201\" xlink:href=\"#ma9a83e992b\" y=\"227.276727\"/>\r\n      </g>\r\n     </g>\r\n     <g id=\"text_2\">\r\n      <!-- Random Search -->\r\n      <g transform=\"translate(52.52292 241.875165)scale(0.1 -0.1)\">\r\n       <defs>\r\n        <path d=\"M 44.390625 34.1875 \r\nQ 47.5625 33.109375 50.5625 29.59375 \r\nQ 53.5625 26.078125 56.59375 19.921875 \r\nL 66.609375 0 \r\nL 56 0 \r\nL 46.6875 18.703125 \r\nQ 43.0625 26.03125 39.671875 28.421875 \r\nQ 36.28125 30.8125 30.421875 30.8125 \r\nL 19.671875 30.8125 \r\nL 19.671875 0 \r\nL 9.8125 0 \r\nL 9.8125 72.90625 \r\nL 32.078125 72.90625 \r\nQ 44.578125 72.90625 50.734375 67.671875 \r\nQ 56.890625 62.453125 56.890625 51.90625 \r\nQ 56.890625 45.015625 53.6875 40.46875 \r\nQ 50.484375 35.9375 44.390625 34.1875 \r\nz\r\nM 19.671875 64.796875 \r\nL 19.671875 38.921875 \r\nL 32.078125 38.921875 \r\nQ 39.203125 38.921875 42.84375 42.21875 \r\nQ 46.484375 45.515625 46.484375 51.90625 \r\nQ 46.484375 58.296875 42.84375 61.546875 \r\nQ 39.203125 64.796875 32.078125 64.796875 \r\nz\r\n\" id=\"DejaVuSans-82\"/>\r\n        <path d=\"M 54.890625 33.015625 \r\nL 54.890625 0 \r\nL 45.90625 0 \r\nL 45.90625 32.71875 \r\nQ 45.90625 40.484375 42.875 44.328125 \r\nQ 39.84375 48.1875 33.796875 48.1875 \r\nQ 26.515625 48.1875 22.3125 43.546875 \r\nQ 18.109375 38.921875 18.109375 30.90625 \r\nL 18.109375 0 \r\nL 9.078125 0 \r\nL 9.078125 54.6875 \r\nL 18.109375 54.6875 \r\nL 18.109375 46.1875 \r\nQ 21.34375 51.125 25.703125 53.5625 \r\nQ 30.078125 56 35.796875 56 \r\nQ 45.21875 56 50.046875 50.171875 \r\nQ 54.890625 44.34375 54.890625 33.015625 \r\nz\r\n\" id=\"DejaVuSans-110\"/>\r\n        <path d=\"M 45.40625 46.390625 \r\nL 45.40625 75.984375 \r\nL 54.390625 75.984375 \r\nL 54.390625 0 \r\nL 45.40625 0 \r\nL 45.40625 8.203125 \r\nQ 42.578125 3.328125 38.25 0.953125 \r\nQ 33.9375 -1.421875 27.875 -1.421875 \r\nQ 17.96875 -1.421875 11.734375 6.484375 \r\nQ 5.515625 14.40625 5.515625 27.296875 \r\nQ 5.515625 40.1875 11.734375 48.09375 \r\nQ 17.96875 56 27.875 56 \r\nQ 33.9375 56 38.25 53.625 \r\nQ 42.578125 51.265625 45.40625 46.390625 \r\nz\r\nM 14.796875 27.296875 \r\nQ 14.796875 17.390625 18.875 11.75 \r\nQ 22.953125 6.109375 30.078125 6.109375 \r\nQ 37.203125 6.109375 41.296875 11.75 \r\nQ 45.40625 17.390625 45.40625 27.296875 \r\nQ 45.40625 37.203125 41.296875 42.84375 \r\nQ 37.203125 48.484375 30.078125 48.484375 \r\nQ 22.953125 48.484375 18.875 42.84375 \r\nQ 14.796875 37.203125 14.796875 27.296875 \r\nz\r\n\" id=\"DejaVuSans-100\"/>\r\n        <path d=\"M 30.609375 48.390625 \r\nQ 23.390625 48.390625 19.1875 42.75 \r\nQ 14.984375 37.109375 14.984375 27.296875 \r\nQ 14.984375 17.484375 19.15625 11.84375 \r\nQ 23.34375 6.203125 30.609375 6.203125 \r\nQ 37.796875 6.203125 41.984375 11.859375 \r\nQ 46.1875 17.53125 46.1875 27.296875 \r\nQ 46.1875 37.015625 41.984375 42.703125 \r\nQ 37.796875 48.390625 30.609375 48.390625 \r\nz\r\nM 30.609375 56 \r\nQ 42.328125 56 49.015625 48.375 \r\nQ 55.71875 40.765625 55.71875 27.296875 \r\nQ 55.71875 13.875 49.015625 6.21875 \r\nQ 42.328125 -1.421875 30.609375 -1.421875 \r\nQ 18.84375 -1.421875 12.171875 6.21875 \r\nQ 5.515625 13.875 5.515625 27.296875 \r\nQ 5.515625 40.765625 12.171875 48.375 \r\nQ 18.84375 56 30.609375 56 \r\nz\r\n\" id=\"DejaVuSans-111\"/>\r\n        <path d=\"M 52 44.1875 \r\nQ 55.375 50.25 60.0625 53.125 \r\nQ 64.75 56 71.09375 56 \r\nQ 79.640625 56 84.28125 50.015625 \r\nQ 88.921875 44.046875 88.921875 33.015625 \r\nL 88.921875 0 \r\nL 79.890625 0 \r\nL 79.890625 32.71875 \r\nQ 79.890625 40.578125 77.09375 44.375 \r\nQ 74.3125 48.1875 68.609375 48.1875 \r\nQ 61.625 48.1875 57.5625 43.546875 \r\nQ 53.515625 38.921875 53.515625 30.90625 \r\nL 53.515625 0 \r\nL 44.484375 0 \r\nL 44.484375 32.71875 \r\nQ 44.484375 40.625 41.703125 44.40625 \r\nQ 38.921875 48.1875 33.109375 48.1875 \r\nQ 26.21875 48.1875 22.15625 43.53125 \r\nQ 18.109375 38.875 18.109375 30.90625 \r\nL 18.109375 0 \r\nL 9.078125 0 \r\nL 9.078125 54.6875 \r\nL 18.109375 54.6875 \r\nL 18.109375 46.1875 \r\nQ 21.1875 51.21875 25.484375 53.609375 \r\nQ 29.78125 56 35.6875 56 \r\nQ 41.65625 56 45.828125 52.96875 \r\nQ 50 49.953125 52 44.1875 \r\nz\r\n\" id=\"DejaVuSans-109\"/>\r\n        <path d=\"M 53.515625 70.515625 \r\nL 53.515625 60.890625 \r\nQ 47.90625 63.578125 42.921875 64.890625 \r\nQ 37.9375 66.21875 33.296875 66.21875 \r\nQ 25.25 66.21875 20.875 63.09375 \r\nQ 16.5 59.96875 16.5 54.203125 \r\nQ 16.5 49.359375 19.40625 46.890625 \r\nQ 22.3125 44.4375 30.421875 42.921875 \r\nL 36.375 41.703125 \r\nQ 47.40625 39.59375 52.65625 34.296875 \r\nQ 57.90625 29 57.90625 20.125 \r\nQ 57.90625 9.515625 50.796875 4.046875 \r\nQ 43.703125 -1.421875 29.984375 -1.421875 \r\nQ 24.8125 -1.421875 18.96875 -0.25 \r\nQ 13.140625 0.921875 6.890625 3.21875 \r\nL 6.890625 13.375 \r\nQ 12.890625 10.015625 18.65625 8.296875 \r\nQ 24.421875 6.59375 29.984375 6.59375 \r\nQ 38.421875 6.59375 43.015625 9.90625 \r\nQ 47.609375 13.234375 47.609375 19.390625 \r\nQ 47.609375 24.75 44.3125 27.78125 \r\nQ 41.015625 30.8125 33.5 32.328125 \r\nL 27.484375 33.5 \r\nQ 16.453125 35.6875 11.515625 40.375 \r\nQ 6.59375 45.0625 6.59375 53.421875 \r\nQ 6.59375 63.09375 13.40625 68.65625 \r\nQ 20.21875 74.21875 32.171875 74.21875 \r\nQ 37.3125 74.21875 42.625 73.28125 \r\nQ 47.953125 72.359375 53.515625 70.515625 \r\nz\r\n\" id=\"DejaVuSans-83\"/>\r\n        <path d=\"M 41.109375 46.296875 \r\nQ 39.59375 47.171875 37.8125 47.578125 \r\nQ 36.03125 48 33.890625 48 \r\nQ 26.265625 48 22.1875 43.046875 \r\nQ 18.109375 38.09375 18.109375 28.8125 \r\nL 18.109375 0 \r\nL 9.078125 0 \r\nL 9.078125 54.6875 \r\nL 18.109375 54.6875 \r\nL 18.109375 46.1875 \r\nQ 20.953125 51.171875 25.484375 53.578125 \r\nQ 30.03125 56 36.53125 56 \r\nQ 37.453125 56 38.578125 55.875 \r\nQ 39.703125 55.765625 41.0625 55.515625 \r\nz\r\n\" id=\"DejaVuSans-114\"/>\r\n        <path d=\"M 48.78125 52.59375 \r\nL 48.78125 44.1875 \r\nQ 44.96875 46.296875 41.140625 47.34375 \r\nQ 37.3125 48.390625 33.40625 48.390625 \r\nQ 24.65625 48.390625 19.8125 42.84375 \r\nQ 14.984375 37.3125 14.984375 27.296875 \r\nQ 14.984375 17.28125 19.8125 11.734375 \r\nQ 24.65625 6.203125 33.40625 6.203125 \r\nQ 37.3125 6.203125 41.140625 7.25 \r\nQ 44.96875 8.296875 48.78125 10.40625 \r\nL 48.78125 2.09375 \r\nQ 45.015625 0.34375 40.984375 -0.53125 \r\nQ 36.96875 -1.421875 32.421875 -1.421875 \r\nQ 20.0625 -1.421875 12.78125 6.34375 \r\nQ 5.515625 14.109375 5.515625 27.296875 \r\nQ 5.515625 40.671875 12.859375 48.328125 \r\nQ 20.21875 56 33.015625 56 \r\nQ 37.15625 56 41.109375 55.140625 \r\nQ 45.0625 54.296875 48.78125 52.59375 \r\nz\r\n\" id=\"DejaVuSans-99\"/>\r\n        <path d=\"M 54.890625 33.015625 \r\nL 54.890625 0 \r\nL 45.90625 0 \r\nL 45.90625 32.71875 \r\nQ 45.90625 40.484375 42.875 44.328125 \r\nQ 39.84375 48.1875 33.796875 48.1875 \r\nQ 26.515625 48.1875 22.3125 43.546875 \r\nQ 18.109375 38.921875 18.109375 30.90625 \r\nL 18.109375 0 \r\nL 9.078125 0 \r\nL 9.078125 75.984375 \r\nL 18.109375 75.984375 \r\nL 18.109375 46.1875 \r\nQ 21.34375 51.125 25.703125 53.5625 \r\nQ 30.078125 56 35.796875 56 \r\nQ 45.21875 56 50.046875 50.171875 \r\nQ 54.890625 44.34375 54.890625 33.015625 \r\nz\r\n\" id=\"DejaVuSans-104\"/>\r\n       </defs>\r\n       <use xlink:href=\"#DejaVuSans-82\"/>\r\n       <use x=\"67.232422\" xlink:href=\"#DejaVuSans-97\"/>\r\n       <use x=\"128.511719\" xlink:href=\"#DejaVuSans-110\"/>\r\n       <use x=\"191.890625\" xlink:href=\"#DejaVuSans-100\"/>\r\n       <use x=\"255.367188\" xlink:href=\"#DejaVuSans-111\"/>\r\n       <use x=\"316.548828\" xlink:href=\"#DejaVuSans-109\"/>\r\n       <use x=\"413.960938\" xlink:href=\"#DejaVuSans-32\"/>\r\n       <use x=\"445.748047\" xlink:href=\"#DejaVuSans-83\"/>\r\n       <use x=\"509.224609\" xlink:href=\"#DejaVuSans-101\"/>\r\n       <use x=\"570.748047\" xlink:href=\"#DejaVuSans-97\"/>\r\n       <use x=\"632.027344\" xlink:href=\"#DejaVuSans-114\"/>\r\n       <use x=\"670.890625\" xlink:href=\"#DejaVuSans-99\"/>\r\n       <use x=\"725.871094\" xlink:href=\"#DejaVuSans-104\"/>\r\n      </g>\r\n     </g>\r\n    </g>\r\n    <g id=\"xtick_3\">\r\n     <g id=\"line2d_5\">\r\n      <path clip-path=\"url(#p67fe7265ab)\" d=\"M 135.466721 227.276727 \r\nL 135.466721 9.836727 \r\n\" style=\"fill:none;stroke:#b0b0b0;stroke-linecap:square;stroke-width:0.8;\"/>\r\n     </g>\r\n     <g id=\"line2d_6\">\r\n      <g>\r\n       <use style=\"stroke:#000000;stroke-width:0.8;\" x=\"135.466721\" xlink:href=\"#ma9a83e992b\" y=\"227.276727\"/>\r\n      </g>\r\n     </g>\r\n     <g id=\"text_3\">\r\n      <!-- TPE -->\r\n      <g transform=\"translate(126.238596 241.875165)scale(0.1 -0.1)\">\r\n       <defs>\r\n        <path d=\"M -0.296875 72.90625 \r\nL 61.375 72.90625 \r\nL 61.375 64.59375 \r\nL 35.5 64.59375 \r\nL 35.5 0 \r\nL 25.59375 0 \r\nL 25.59375 64.59375 \r\nL -0.296875 64.59375 \r\nz\r\n\" id=\"DejaVuSans-84\"/>\r\n        <path d=\"M 19.671875 64.796875 \r\nL 19.671875 37.40625 \r\nL 32.078125 37.40625 \r\nQ 38.96875 37.40625 42.71875 40.96875 \r\nQ 46.484375 44.53125 46.484375 51.125 \r\nQ 46.484375 57.671875 42.71875 61.234375 \r\nQ 38.96875 64.796875 32.078125 64.796875 \r\nz\r\nM 9.8125 72.90625 \r\nL 32.078125 72.90625 \r\nQ 44.34375 72.90625 50.609375 67.359375 \r\nQ 56.890625 61.8125 56.890625 51.125 \r\nQ 56.890625 40.328125 50.609375 34.8125 \r\nQ 44.34375 29.296875 32.078125 29.296875 \r\nL 19.671875 29.296875 \r\nL 19.671875 0 \r\nL 9.8125 0 \r\nz\r\n\" id=\"DejaVuSans-80\"/>\r\n        <path d=\"M 9.8125 72.90625 \r\nL 55.90625 72.90625 \r\nL 55.90625 64.59375 \r\nL 19.671875 64.59375 \r\nL 19.671875 43.015625 \r\nL 54.390625 43.015625 \r\nL 54.390625 34.71875 \r\nL 19.671875 34.71875 \r\nL 19.671875 8.296875 \r\nL 56.78125 8.296875 \r\nL 56.78125 0 \r\nL 9.8125 0 \r\nz\r\n\" id=\"DejaVuSans-69\"/>\r\n       </defs>\r\n       <use xlink:href=\"#DejaVuSans-84\"/>\r\n       <use x=\"61.083984\" xlink:href=\"#DejaVuSans-80\"/>\r\n       <use x=\"121.386719\" xlink:href=\"#DejaVuSans-69\"/>\r\n      </g>\r\n     </g>\r\n    </g>\r\n    <g id=\"xtick_4\">\r\n     <g id=\"line2d_7\">\r\n      <path clip-path=\"url(#p67fe7265ab)\" d=\"M 178.94724 227.276727 \r\nL 178.94724 9.836727 \r\n\" style=\"fill:none;stroke:#b0b0b0;stroke-linecap:square;stroke-width:0.8;\"/>\r\n     </g>\r\n     <g id=\"line2d_8\">\r\n      <g>\r\n       <use style=\"stroke:#000000;stroke-width:0.8;\" x=\"178.94724\" xlink:href=\"#ma9a83e992b\" y=\"227.276727\"/>\r\n      </g>\r\n     </g>\r\n     <g id=\"text_4\">\r\n      <!-- SMAC -->\r\n      <g transform=\"translate(164.63474 241.875165)scale(0.1 -0.1)\">\r\n       <defs>\r\n        <path d=\"M 9.8125 72.90625 \r\nL 24.515625 72.90625 \r\nL 43.109375 23.296875 \r\nL 61.8125 72.90625 \r\nL 76.515625 72.90625 \r\nL 76.515625 0 \r\nL 66.890625 0 \r\nL 66.890625 64.015625 \r\nL 48.09375 14.015625 \r\nL 38.1875 14.015625 \r\nL 19.390625 64.015625 \r\nL 19.390625 0 \r\nL 9.8125 0 \r\nz\r\n\" id=\"DejaVuSans-77\"/>\r\n        <path d=\"M 34.1875 63.1875 \r\nL 20.796875 26.90625 \r\nL 47.609375 26.90625 \r\nz\r\nM 28.609375 72.90625 \r\nL 39.796875 72.90625 \r\nL 67.578125 0 \r\nL 57.328125 0 \r\nL 50.6875 18.703125 \r\nL 17.828125 18.703125 \r\nL 11.1875 0 \r\nL 0.78125 0 \r\nz\r\n\" id=\"DejaVuSans-65\"/>\r\n        <path d=\"M 64.40625 67.28125 \r\nL 64.40625 56.890625 \r\nQ 59.421875 61.53125 53.78125 63.8125 \r\nQ 48.140625 66.109375 41.796875 66.109375 \r\nQ 29.296875 66.109375 22.65625 58.46875 \r\nQ 16.015625 50.828125 16.015625 36.375 \r\nQ 16.015625 21.96875 22.65625 14.328125 \r\nQ 29.296875 6.6875 41.796875 6.6875 \r\nQ 48.140625 6.6875 53.78125 8.984375 \r\nQ 59.421875 11.28125 64.40625 15.921875 \r\nL 64.40625 5.609375 \r\nQ 59.234375 2.09375 53.4375 0.328125 \r\nQ 47.65625 -1.421875 41.21875 -1.421875 \r\nQ 24.65625 -1.421875 15.125 8.703125 \r\nQ 5.609375 18.84375 5.609375 36.375 \r\nQ 5.609375 53.953125 15.125 64.078125 \r\nQ 24.65625 74.21875 41.21875 74.21875 \r\nQ 47.75 74.21875 53.53125 72.484375 \r\nQ 59.328125 70.75 64.40625 67.28125 \r\nz\r\n\" id=\"DejaVuSans-67\"/>\r\n       </defs>\r\n       <use xlink:href=\"#DejaVuSans-83\"/>\r\n       <use x=\"63.476562\" xlink:href=\"#DejaVuSans-77\"/>\r\n       <use x=\"149.755859\" xlink:href=\"#DejaVuSans-65\"/>\r\n       <use x=\"216.414062\" xlink:href=\"#DejaVuSans-67\"/>\r\n      </g>\r\n     </g>\r\n    </g>\r\n    <g id=\"xtick_5\">\r\n     <g id=\"line2d_9\">\r\n      <path clip-path=\"url(#p67fe7265ab)\" d=\"M 222.42776 227.276727 \r\nL 222.42776 9.836727 \r\n\" style=\"fill:none;stroke:#b0b0b0;stroke-linecap:square;stroke-width:0.8;\"/>\r\n     </g>\r\n     <g id=\"line2d_10\">\r\n      <g>\r\n       <use style=\"stroke:#000000;stroke-width:0.8;\" x=\"222.42776\" xlink:href=\"#ma9a83e992b\" y=\"227.276727\"/>\r\n      </g>\r\n     </g>\r\n     <g id=\"text_5\">\r\n      <!-- BOHB -->\r\n      <g transform=\"translate(207.958228 241.875165)scale(0.1 -0.1)\">\r\n       <defs>\r\n        <path d=\"M 19.671875 34.8125 \r\nL 19.671875 8.109375 \r\nL 35.5 8.109375 \r\nQ 43.453125 8.109375 47.28125 11.40625 \r\nQ 51.125 14.703125 51.125 21.484375 \r\nQ 51.125 28.328125 47.28125 31.5625 \r\nQ 43.453125 34.8125 35.5 34.8125 \r\nz\r\nM 19.671875 64.796875 \r\nL 19.671875 42.828125 \r\nL 34.28125 42.828125 \r\nQ 41.5 42.828125 45.03125 45.53125 \r\nQ 48.578125 48.25 48.578125 53.8125 \r\nQ 48.578125 59.328125 45.03125 62.0625 \r\nQ 41.5 64.796875 34.28125 64.796875 \r\nz\r\nM 9.8125 72.90625 \r\nL 35.015625 72.90625 \r\nQ 46.296875 72.90625 52.390625 68.21875 \r\nQ 58.5 63.53125 58.5 54.890625 \r\nQ 58.5 48.1875 55.375 44.234375 \r\nQ 52.25 40.28125 46.1875 39.3125 \r\nQ 53.46875 37.75 57.5 32.78125 \r\nQ 61.53125 27.828125 61.53125 20.40625 \r\nQ 61.53125 10.640625 54.890625 5.3125 \r\nQ 48.25 0 35.984375 0 \r\nL 9.8125 0 \r\nz\r\n\" id=\"DejaVuSans-66\"/>\r\n        <path d=\"M 39.40625 66.21875 \r\nQ 28.65625 66.21875 22.328125 58.203125 \r\nQ 16.015625 50.203125 16.015625 36.375 \r\nQ 16.015625 22.609375 22.328125 14.59375 \r\nQ 28.65625 6.59375 39.40625 6.59375 \r\nQ 50.140625 6.59375 56.421875 14.59375 \r\nQ 62.703125 22.609375 62.703125 36.375 \r\nQ 62.703125 50.203125 56.421875 58.203125 \r\nQ 50.140625 66.21875 39.40625 66.21875 \r\nz\r\nM 39.40625 74.21875 \r\nQ 54.734375 74.21875 63.90625 63.9375 \r\nQ 73.09375 53.65625 73.09375 36.375 \r\nQ 73.09375 19.140625 63.90625 8.859375 \r\nQ 54.734375 -1.421875 39.40625 -1.421875 \r\nQ 24.03125 -1.421875 14.8125 8.828125 \r\nQ 5.609375 19.09375 5.609375 36.375 \r\nQ 5.609375 53.65625 14.8125 63.9375 \r\nQ 24.03125 74.21875 39.40625 74.21875 \r\nz\r\n\" id=\"DejaVuSans-79\"/>\r\n        <path d=\"M 9.8125 72.90625 \r\nL 19.671875 72.90625 \r\nL 19.671875 43.015625 \r\nL 55.515625 43.015625 \r\nL 55.515625 72.90625 \r\nL 65.375 72.90625 \r\nL 65.375 0 \r\nL 55.515625 0 \r\nL 55.515625 34.71875 \r\nL 19.671875 34.71875 \r\nL 19.671875 0 \r\nL 9.8125 0 \r\nz\r\n\" id=\"DejaVuSans-72\"/>\r\n       </defs>\r\n       <use xlink:href=\"#DejaVuSans-66\"/>\r\n       <use x=\"66.853516\" xlink:href=\"#DejaVuSans-79\"/>\r\n       <use x=\"145.564453\" xlink:href=\"#DejaVuSans-72\"/>\r\n       <use x=\"220.759766\" xlink:href=\"#DejaVuSans-66\"/>\r\n      </g>\r\n     </g>\r\n    </g>\r\n    <g id=\"xtick_6\">\r\n     <g id=\"line2d_11\">\r\n      <path clip-path=\"url(#p67fe7265ab)\" d=\"M 265.908279 227.276727 \r\nL 265.908279 9.836727 \r\n\" style=\"fill:none;stroke:#b0b0b0;stroke-linecap:square;stroke-width:0.8;\"/>\r\n     </g>\r\n     <g id=\"line2d_12\">\r\n      <g>\r\n       <use style=\"stroke:#000000;stroke-width:0.8;\" x=\"265.908279\" xlink:href=\"#ma9a83e992b\" y=\"227.276727\"/>\r\n      </g>\r\n     </g>\r\n     <g id=\"text_6\">\r\n      <!-- GPBO -->\r\n      <g transform=\"translate(251.74031 241.875165)scale(0.1 -0.1)\">\r\n       <defs>\r\n        <path d=\"M 59.515625 10.40625 \r\nL 59.515625 29.984375 \r\nL 43.40625 29.984375 \r\nL 43.40625 38.09375 \r\nL 69.28125 38.09375 \r\nL 69.28125 6.78125 \r\nQ 63.578125 2.734375 56.6875 0.65625 \r\nQ 49.8125 -1.421875 42 -1.421875 \r\nQ 24.90625 -1.421875 15.25 8.5625 \r\nQ 5.609375 18.5625 5.609375 36.375 \r\nQ 5.609375 54.25 15.25 64.234375 \r\nQ 24.90625 74.21875 42 74.21875 \r\nQ 49.125 74.21875 55.546875 72.453125 \r\nQ 61.96875 70.703125 67.390625 67.28125 \r\nL 67.390625 56.78125 \r\nQ 61.921875 61.421875 55.765625 63.765625 \r\nQ 49.609375 66.109375 42.828125 66.109375 \r\nQ 29.4375 66.109375 22.71875 58.640625 \r\nQ 16.015625 51.171875 16.015625 36.375 \r\nQ 16.015625 21.625 22.71875 14.15625 \r\nQ 29.4375 6.6875 42.828125 6.6875 \r\nQ 48.046875 6.6875 52.140625 7.59375 \r\nQ 56.25 8.5 59.515625 10.40625 \r\nz\r\n\" id=\"DejaVuSans-71\"/>\r\n       </defs>\r\n       <use xlink:href=\"#DejaVuSans-71\"/>\r\n       <use x=\"77.490234\" xlink:href=\"#DejaVuSans-80\"/>\r\n       <use x=\"137.792969\" xlink:href=\"#DejaVuSans-66\"/>\r\n       <use x=\"204.646484\" xlink:href=\"#DejaVuSans-79\"/>\r\n      </g>\r\n     </g>\r\n    </g>\r\n    <g id=\"xtick_7\">\r\n     <g id=\"line2d_13\">\r\n      <path clip-path=\"url(#p67fe7265ab)\" d=\"M 309.388799 227.276727 \r\nL 309.388799 9.836727 \r\n\" style=\"fill:none;stroke:#b0b0b0;stroke-linecap:square;stroke-width:0.8;\"/>\r\n     </g>\r\n     <g id=\"line2d_14\">\r\n      <g>\r\n       <use style=\"stroke:#000000;stroke-width:0.8;\" x=\"309.388799\" xlink:href=\"#ma9a83e992b\" y=\"227.276727\"/>\r\n      </g>\r\n     </g>\r\n     <g id=\"text_7\">\r\n      <!-- BOHAMIANN -->\r\n      <g transform=\"translate(278.238799 241.875165)scale(0.1 -0.1)\">\r\n       <defs>\r\n        <path d=\"M 9.8125 72.90625 \r\nL 19.671875 72.90625 \r\nL 19.671875 0 \r\nL 9.8125 0 \r\nz\r\n\" id=\"DejaVuSans-73\"/>\r\n        <path d=\"M 9.8125 72.90625 \r\nL 23.09375 72.90625 \r\nL 55.421875 11.921875 \r\nL 55.421875 72.90625 \r\nL 64.984375 72.90625 \r\nL 64.984375 0 \r\nL 51.703125 0 \r\nL 19.390625 60.984375 \r\nL 19.390625 0 \r\nL 9.8125 0 \r\nz\r\n\" id=\"DejaVuSans-78\"/>\r\n       </defs>\r\n       <use xlink:href=\"#DejaVuSans-66\"/>\r\n       <use x=\"66.853516\" xlink:href=\"#DejaVuSans-79\"/>\r\n       <use x=\"145.564453\" xlink:href=\"#DejaVuSans-72\"/>\r\n       <use x=\"220.759766\" xlink:href=\"#DejaVuSans-65\"/>\r\n       <use x=\"289.167969\" xlink:href=\"#DejaVuSans-77\"/>\r\n       <use x=\"375.447266\" xlink:href=\"#DejaVuSans-73\"/>\r\n       <use x=\"404.939453\" xlink:href=\"#DejaVuSans-65\"/>\r\n       <use x=\"473.347656\" xlink:href=\"#DejaVuSans-78\"/>\r\n       <use x=\"548.152344\" xlink:href=\"#DejaVuSans-78\"/>\r\n      </g>\r\n     </g>\r\n    </g>\r\n    <g id=\"xtick_8\">\r\n     <g id=\"line2d_15\">\r\n      <path clip-path=\"url(#p67fe7265ab)\" d=\"M 352.869318 227.276727 \r\nL 352.869318 9.836727 \r\n\" style=\"fill:none;stroke:#b0b0b0;stroke-linecap:square;stroke-width:0.8;\"/>\r\n     </g>\r\n     <g id=\"line2d_16\">\r\n      <g>\r\n       <use style=\"stroke:#000000;stroke-width:0.8;\" x=\"352.869318\" xlink:href=\"#ma9a83e992b\" y=\"227.276727\"/>\r\n      </g>\r\n     </g>\r\n     <g id=\"text_8\">\r\n      <!-- HB -->\r\n      <g transform=\"translate(345.678693 241.875165)scale(0.1 -0.1)\">\r\n       <use xlink:href=\"#DejaVuSans-72\"/>\r\n       <use x=\"75.195312\" xlink:href=\"#DejaVuSans-66\"/>\r\n      </g>\r\n     </g>\r\n    </g>\r\n   </g>\r\n   <g id=\"matplotlib.axis_2\">\r\n    <g id=\"ytick_1\">\r\n     <g id=\"line2d_17\">\r\n      <path clip-path=\"url(#p67fe7265ab)\" d=\"M 33.2875 227.276727 \r\nL 368.0875 227.276727 \r\n\" style=\"fill:none;stroke:#b0b0b0;stroke-linecap:square;stroke-width:0.8;\"/>\r\n     </g>\r\n     <g id=\"line2d_18\">\r\n      <defs>\r\n       <path d=\"M 0 0 \r\nL -3.5 0 \r\n\" id=\"m0e41b1fcaf\" style=\"stroke:#000000;stroke-width:0.8;\"/>\r\n      </defs>\r\n      <g>\r\n       <use style=\"stroke:#000000;stroke-width:0.8;\" x=\"33.2875\" xlink:href=\"#m0e41b1fcaf\" y=\"227.276727\"/>\r\n      </g>\r\n     </g>\r\n     <g id=\"text_9\">\r\n      <!-- 0 -->\r\n      <g transform=\"translate(19.925 231.075946)scale(0.1 -0.1)\">\r\n       <defs>\r\n        <path d=\"M 31.78125 66.40625 \r\nQ 24.171875 66.40625 20.328125 58.90625 \r\nQ 16.5 51.421875 16.5 36.375 \r\nQ 16.5 21.390625 20.328125 13.890625 \r\nQ 24.171875 6.390625 31.78125 6.390625 \r\nQ 39.453125 6.390625 43.28125 13.890625 \r\nQ 47.125 21.390625 47.125 36.375 \r\nQ 47.125 51.421875 43.28125 58.90625 \r\nQ 39.453125 66.40625 31.78125 66.40625 \r\nz\r\nM 31.78125 74.21875 \r\nQ 44.046875 74.21875 50.515625 64.515625 \r\nQ 56.984375 54.828125 56.984375 36.375 \r\nQ 56.984375 17.96875 50.515625 8.265625 \r\nQ 44.046875 -1.421875 31.78125 -1.421875 \r\nQ 19.53125 -1.421875 13.0625 8.265625 \r\nQ 6.59375 17.96875 6.59375 36.375 \r\nQ 6.59375 54.828125 13.0625 64.515625 \r\nQ 19.53125 74.21875 31.78125 74.21875 \r\nz\r\n\" id=\"DejaVuSans-48\"/>\r\n       </defs>\r\n       <use xlink:href=\"#DejaVuSans-48\"/>\r\n      </g>\r\n     </g>\r\n    </g>\r\n    <g id=\"ytick_2\">\r\n     <g id=\"line2d_19\">\r\n      <path clip-path=\"url(#p67fe7265ab)\" d=\"M 33.2875 200.242039 \r\nL 368.0875 200.242039 \r\n\" style=\"fill:none;stroke:#b0b0b0;stroke-linecap:square;stroke-width:0.8;\"/>\r\n     </g>\r\n     <g id=\"line2d_20\">\r\n      <g>\r\n       <use style=\"stroke:#000000;stroke-width:0.8;\" x=\"33.2875\" xlink:href=\"#m0e41b1fcaf\" y=\"200.242039\"/>\r\n      </g>\r\n     </g>\r\n     <g id=\"text_10\">\r\n      <!-- 50 -->\r\n      <g transform=\"translate(13.5625 204.041257)scale(0.1 -0.1)\">\r\n       <defs>\r\n        <path d=\"M 10.796875 72.90625 \r\nL 49.515625 72.90625 \r\nL 49.515625 64.59375 \r\nL 19.828125 64.59375 \r\nL 19.828125 46.734375 \r\nQ 21.96875 47.46875 24.109375 47.828125 \r\nQ 26.265625 48.1875 28.421875 48.1875 \r\nQ 40.625 48.1875 47.75 41.5 \r\nQ 54.890625 34.8125 54.890625 23.390625 \r\nQ 54.890625 11.625 47.5625 5.09375 \r\nQ 40.234375 -1.421875 26.90625 -1.421875 \r\nQ 22.3125 -1.421875 17.546875 -0.640625 \r\nQ 12.796875 0.140625 7.71875 1.703125 \r\nL 7.71875 11.625 \r\nQ 12.109375 9.234375 16.796875 8.0625 \r\nQ 21.484375 6.890625 26.703125 6.890625 \r\nQ 35.15625 6.890625 40.078125 11.328125 \r\nQ 45.015625 15.765625 45.015625 23.390625 \r\nQ 45.015625 31 40.078125 35.4375 \r\nQ 35.15625 39.890625 26.703125 39.890625 \r\nQ 22.75 39.890625 18.8125 39.015625 \r\nQ 14.890625 38.140625 10.796875 36.28125 \r\nz\r\n\" id=\"DejaVuSans-53\"/>\r\n       </defs>\r\n       <use xlink:href=\"#DejaVuSans-53\"/>\r\n       <use x=\"63.623047\" xlink:href=\"#DejaVuSans-48\"/>\r\n      </g>\r\n     </g>\r\n    </g>\r\n    <g id=\"ytick_3\">\r\n     <g id=\"line2d_21\">\r\n      <path clip-path=\"url(#p67fe7265ab)\" d=\"M 33.2875 173.20735 \r\nL 368.0875 173.20735 \r\n\" style=\"fill:none;stroke:#b0b0b0;stroke-linecap:square;stroke-width:0.8;\"/>\r\n     </g>\r\n     <g id=\"line2d_22\">\r\n      <g>\r\n       <use style=\"stroke:#000000;stroke-width:0.8;\" x=\"33.2875\" xlink:href=\"#m0e41b1fcaf\" y=\"173.20735\"/>\r\n      </g>\r\n     </g>\r\n     <g id=\"text_11\">\r\n      <!-- 100 -->\r\n      <g transform=\"translate(7.2 177.006569)scale(0.1 -0.1)\">\r\n       <defs>\r\n        <path d=\"M 12.40625 8.296875 \r\nL 28.515625 8.296875 \r\nL 28.515625 63.921875 \r\nL 10.984375 60.40625 \r\nL 10.984375 69.390625 \r\nL 28.421875 72.90625 \r\nL 38.28125 72.90625 \r\nL 38.28125 8.296875 \r\nL 54.390625 8.296875 \r\nL 54.390625 0 \r\nL 12.40625 0 \r\nz\r\n\" id=\"DejaVuSans-49\"/>\r\n       </defs>\r\n       <use xlink:href=\"#DejaVuSans-49\"/>\r\n       <use x=\"63.623047\" xlink:href=\"#DejaVuSans-48\"/>\r\n       <use x=\"127.246094\" xlink:href=\"#DejaVuSans-48\"/>\r\n      </g>\r\n     </g>\r\n    </g>\r\n    <g id=\"ytick_4\">\r\n     <g id=\"line2d_23\">\r\n      <path clip-path=\"url(#p67fe7265ab)\" d=\"M 33.2875 146.172661 \r\nL 368.0875 146.172661 \r\n\" style=\"fill:none;stroke:#b0b0b0;stroke-linecap:square;stroke-width:0.8;\"/>\r\n     </g>\r\n     <g id=\"line2d_24\">\r\n      <g>\r\n       <use style=\"stroke:#000000;stroke-width:0.8;\" x=\"33.2875\" xlink:href=\"#m0e41b1fcaf\" y=\"146.172661\"/>\r\n      </g>\r\n     </g>\r\n     <g id=\"text_12\">\r\n      <!-- 150 -->\r\n      <g transform=\"translate(7.2 149.97188)scale(0.1 -0.1)\">\r\n       <use xlink:href=\"#DejaVuSans-49\"/>\r\n       <use x=\"63.623047\" xlink:href=\"#DejaVuSans-53\"/>\r\n       <use x=\"127.246094\" xlink:href=\"#DejaVuSans-48\"/>\r\n      </g>\r\n     </g>\r\n    </g>\r\n    <g id=\"ytick_5\">\r\n     <g id=\"line2d_25\">\r\n      <path clip-path=\"url(#p67fe7265ab)\" d=\"M 33.2875 119.137973 \r\nL 368.0875 119.137973 \r\n\" style=\"fill:none;stroke:#b0b0b0;stroke-linecap:square;stroke-width:0.8;\"/>\r\n     </g>\r\n     <g id=\"line2d_26\">\r\n      <g>\r\n       <use style=\"stroke:#000000;stroke-width:0.8;\" x=\"33.2875\" xlink:href=\"#m0e41b1fcaf\" y=\"119.137973\"/>\r\n      </g>\r\n     </g>\r\n     <g id=\"text_13\">\r\n      <!-- 200 -->\r\n      <g transform=\"translate(7.2 122.937192)scale(0.1 -0.1)\">\r\n       <defs>\r\n        <path d=\"M 19.1875 8.296875 \r\nL 53.609375 8.296875 \r\nL 53.609375 0 \r\nL 7.328125 0 \r\nL 7.328125 8.296875 \r\nQ 12.9375 14.109375 22.625 23.890625 \r\nQ 32.328125 33.6875 34.8125 36.53125 \r\nQ 39.546875 41.84375 41.421875 45.53125 \r\nQ 43.3125 49.21875 43.3125 52.78125 \r\nQ 43.3125 58.59375 39.234375 62.25 \r\nQ 35.15625 65.921875 28.609375 65.921875 \r\nQ 23.96875 65.921875 18.8125 64.3125 \r\nQ 13.671875 62.703125 7.8125 59.421875 \r\nL 7.8125 69.390625 \r\nQ 13.765625 71.78125 18.9375 73 \r\nQ 24.125 74.21875 28.421875 74.21875 \r\nQ 39.75 74.21875 46.484375 68.546875 \r\nQ 53.21875 62.890625 53.21875 53.421875 \r\nQ 53.21875 48.921875 51.53125 44.890625 \r\nQ 49.859375 40.875 45.40625 35.40625 \r\nQ 44.1875 33.984375 37.640625 27.21875 \r\nQ 31.109375 20.453125 19.1875 8.296875 \r\nz\r\n\" id=\"DejaVuSans-50\"/>\r\n       </defs>\r\n       <use xlink:href=\"#DejaVuSans-50\"/>\r\n       <use x=\"63.623047\" xlink:href=\"#DejaVuSans-48\"/>\r\n       <use x=\"127.246094\" xlink:href=\"#DejaVuSans-48\"/>\r\n      </g>\r\n     </g>\r\n    </g>\r\n    <g id=\"ytick_6\">\r\n     <g id=\"line2d_27\">\r\n      <path clip-path=\"url(#p67fe7265ab)\" d=\"M 33.2875 92.103284 \r\nL 368.0875 92.103284 \r\n\" style=\"fill:none;stroke:#b0b0b0;stroke-linecap:square;stroke-width:0.8;\"/>\r\n     </g>\r\n     <g id=\"line2d_28\">\r\n      <g>\r\n       <use style=\"stroke:#000000;stroke-width:0.8;\" x=\"33.2875\" xlink:href=\"#m0e41b1fcaf\" y=\"92.103284\"/>\r\n      </g>\r\n     </g>\r\n     <g id=\"text_14\">\r\n      <!-- 250 -->\r\n      <g transform=\"translate(7.2 95.902503)scale(0.1 -0.1)\">\r\n       <use xlink:href=\"#DejaVuSans-50\"/>\r\n       <use x=\"63.623047\" xlink:href=\"#DejaVuSans-53\"/>\r\n       <use x=\"127.246094\" xlink:href=\"#DejaVuSans-48\"/>\r\n      </g>\r\n     </g>\r\n    </g>\r\n    <g id=\"ytick_7\">\r\n     <g id=\"line2d_29\">\r\n      <path clip-path=\"url(#p67fe7265ab)\" d=\"M 33.2875 65.068596 \r\nL 368.0875 65.068596 \r\n\" style=\"fill:none;stroke:#b0b0b0;stroke-linecap:square;stroke-width:0.8;\"/>\r\n     </g>\r\n     <g id=\"line2d_30\">\r\n      <g>\r\n       <use style=\"stroke:#000000;stroke-width:0.8;\" x=\"33.2875\" xlink:href=\"#m0e41b1fcaf\" y=\"65.068596\"/>\r\n      </g>\r\n     </g>\r\n     <g id=\"text_15\">\r\n      <!-- 300 -->\r\n      <g transform=\"translate(7.2 68.867815)scale(0.1 -0.1)\">\r\n       <defs>\r\n        <path d=\"M 40.578125 39.3125 \r\nQ 47.65625 37.796875 51.625 33 \r\nQ 55.609375 28.21875 55.609375 21.1875 \r\nQ 55.609375 10.40625 48.1875 4.484375 \r\nQ 40.765625 -1.421875 27.09375 -1.421875 \r\nQ 22.515625 -1.421875 17.65625 -0.515625 \r\nQ 12.796875 0.390625 7.625 2.203125 \r\nL 7.625 11.71875 \r\nQ 11.71875 9.328125 16.59375 8.109375 \r\nQ 21.484375 6.890625 26.8125 6.890625 \r\nQ 36.078125 6.890625 40.9375 10.546875 \r\nQ 45.796875 14.203125 45.796875 21.1875 \r\nQ 45.796875 27.640625 41.28125 31.265625 \r\nQ 36.765625 34.90625 28.71875 34.90625 \r\nL 20.21875 34.90625 \r\nL 20.21875 43.015625 \r\nL 29.109375 43.015625 \r\nQ 36.375 43.015625 40.234375 45.921875 \r\nQ 44.09375 48.828125 44.09375 54.296875 \r\nQ 44.09375 59.90625 40.109375 62.90625 \r\nQ 36.140625 65.921875 28.71875 65.921875 \r\nQ 24.65625 65.921875 20.015625 65.03125 \r\nQ 15.375 64.15625 9.8125 62.3125 \r\nL 9.8125 71.09375 \r\nQ 15.4375 72.65625 20.34375 73.4375 \r\nQ 25.25 74.21875 29.59375 74.21875 \r\nQ 40.828125 74.21875 47.359375 69.109375 \r\nQ 53.90625 64.015625 53.90625 55.328125 \r\nQ 53.90625 49.265625 50.4375 45.09375 \r\nQ 46.96875 40.921875 40.578125 39.3125 \r\nz\r\n\" id=\"DejaVuSans-51\"/>\r\n       </defs>\r\n       <use xlink:href=\"#DejaVuSans-51\"/>\r\n       <use x=\"63.623047\" xlink:href=\"#DejaVuSans-48\"/>\r\n       <use x=\"127.246094\" xlink:href=\"#DejaVuSans-48\"/>\r\n      </g>\r\n     </g>\r\n    </g>\r\n    <g id=\"ytick_8\">\r\n     <g id=\"line2d_31\">\r\n      <path clip-path=\"url(#p67fe7265ab)\" d=\"M 33.2875 38.033907 \r\nL 368.0875 38.033907 \r\n\" style=\"fill:none;stroke:#b0b0b0;stroke-linecap:square;stroke-width:0.8;\"/>\r\n     </g>\r\n     <g id=\"line2d_32\">\r\n      <g>\r\n       <use style=\"stroke:#000000;stroke-width:0.8;\" x=\"33.2875\" xlink:href=\"#m0e41b1fcaf\" y=\"38.033907\"/>\r\n      </g>\r\n     </g>\r\n     <g id=\"text_16\">\r\n      <!-- 350 -->\r\n      <g transform=\"translate(7.2 41.833126)scale(0.1 -0.1)\">\r\n       <use xlink:href=\"#DejaVuSans-51\"/>\r\n       <use x=\"63.623047\" xlink:href=\"#DejaVuSans-53\"/>\r\n       <use x=\"127.246094\" xlink:href=\"#DejaVuSans-48\"/>\r\n      </g>\r\n     </g>\r\n    </g>\r\n    <g id=\"ytick_9\">\r\n     <g id=\"line2d_33\">\r\n      <path clip-path=\"url(#p67fe7265ab)\" d=\"M 33.2875 10.999219 \r\nL 368.0875 10.999219 \r\n\" style=\"fill:none;stroke:#b0b0b0;stroke-linecap:square;stroke-width:0.8;\"/>\r\n     </g>\r\n     <g id=\"line2d_34\">\r\n      <g>\r\n       <use style=\"stroke:#000000;stroke-width:0.8;\" x=\"33.2875\" xlink:href=\"#m0e41b1fcaf\" y=\"10.999219\"/>\r\n      </g>\r\n     </g>\r\n     <g id=\"text_17\">\r\n      <!-- 400 -->\r\n      <g transform=\"translate(7.2 14.798437)scale(0.1 -0.1)\">\r\n       <defs>\r\n        <path d=\"M 37.796875 64.3125 \r\nL 12.890625 25.390625 \r\nL 37.796875 25.390625 \r\nz\r\nM 35.203125 72.90625 \r\nL 47.609375 72.90625 \r\nL 47.609375 25.390625 \r\nL 58.015625 25.390625 \r\nL 58.015625 17.1875 \r\nL 47.609375 17.1875 \r\nL 47.609375 0 \r\nL 37.796875 0 \r\nL 37.796875 17.1875 \r\nL 4.890625 17.1875 \r\nL 4.890625 26.703125 \r\nz\r\n\" id=\"DejaVuSans-52\"/>\r\n       </defs>\r\n       <use xlink:href=\"#DejaVuSans-52\"/>\r\n       <use x=\"63.623047\" xlink:href=\"#DejaVuSans-48\"/>\r\n       <use x=\"127.246094\" xlink:href=\"#DejaVuSans-48\"/>\r\n      </g>\r\n     </g>\r\n    </g>\r\n   </g>\r\n   <g id=\"patch_13\">\r\n    <path d=\"M 33.2875 227.276727 \r\nL 33.2875 9.836727 \r\n\" style=\"fill:none;stroke:#000000;stroke-linecap:square;stroke-linejoin:miter;stroke-width:0.8;\"/>\r\n   </g>\r\n   <g id=\"patch_14\">\r\n    <path d=\"M 368.0875 227.276727 \r\nL 368.0875 9.836727 \r\n\" style=\"fill:none;stroke:#000000;stroke-linecap:square;stroke-linejoin:miter;stroke-width:0.8;\"/>\r\n   </g>\r\n   <g id=\"patch_15\">\r\n    <path d=\"M 33.2875 227.276727 \r\nL 368.0875 227.276727 \r\n\" style=\"fill:none;stroke:#000000;stroke-linecap:square;stroke-linejoin:miter;stroke-width:0.8;\"/>\r\n   </g>\r\n   <g id=\"patch_16\">\r\n    <path d=\"M 33.2875 9.836727 \r\nL 368.0875 9.836727 \r\n\" style=\"fill:none;stroke:#000000;stroke-linecap:square;stroke-linejoin:miter;stroke-width:0.8;\"/>\r\n   </g>\r\n  </g>\r\n </g>\r\n <defs>\r\n  <clipPath id=\"p67fe7265ab\">\r\n   <rect height=\"217.44\" width=\"334.8\" x=\"33.2875\" y=\"9.836727\"/>\r\n  </clipPath>\r\n </defs>\r\n</svg>\r\n",
      "image/png": "[encoded data removed]"
     },
     "metadata": {
      "needs_background": "light"
     }
    }
   ],
   "source": [
    "y_pred.idxmax(axis=1).hist()"
   ]
  },
  {
   "cell_type": "markdown",
   "metadata": {},
   "source": [
    "# Translation to max results"
   ]
  },
  {
   "cell_type": "code",
   "execution_count": 19,
   "metadata": {},
   "outputs": [
    {
     "output_type": "stream",
     "name": "stdout",
     "text": [
      "BRBES avg. score (stdev): \t\t0.534 (0.45)\nRandomSearch avg. score (stdev): \t0.166 (0.24)\nDefault Values avg. score (stdev): \t0.803 (0.36)\n"
     ]
    }
   ],
   "source": [
    "# APPROACH #2 (punish non suitable HPO techniques with scaled deviation (if suitable) + x (penalty))\n",
    "\n",
    "use_test_loss = False\n",
    "\n",
    "# Penalty score, that is assigned to HPO techniques, which do not meet the user requirements of a specific use case (robustness, model transparency, well documented, programming complexity)\n",
    "ur_penalty = 0.05\n",
    "\n",
    "brb_scores = list()  # Stores the scaled score achieved by the BRBES in each use case\n",
    "rs_scores = list()  # Stores the scaled score achieved by RS in each use case\n",
    "dv_scores = list()  # Stores the scaled score achieved by the Default HPs in each use case\n",
    "\n",
    "summary_df = df_use_case.copy(deep=True)\n",
    "\n",
    "for idx, use_case in df_use_case.iterrows():\n",
    "\n",
    "    # Identify the experiments (from the benchmarking study), that correspond to this specific use case\n",
    "    exp = maxr.loc[(maxr['ML-algorithm'] == ml_brb2bm_map[use_case['Machine Learning Algorithm']]) &\n",
    "        (maxr['Workers'] == use_case['Hardware: Number of workers/kernels for parallel computing']) &\n",
    "        (maxr['Warmstart'] == wst_brb2bm_map[use_case['Availability of a warm-start HP configuration']]) &\n",
    "        (maxr['Wall clock time [s]'] == use_case['Total Computing Time [s]']) &\n",
    "        (maxr[\"User's programming ability\"] == use_case[\"User's programming ability\"]) &\n",
    "        (maxr['UR: need for model transparency'] == use_case['UR: need for model transparency']) &\n",
    "        (maxr['UR: Availability of a well documented library'] == use_case['UR: Availability of a well documented library']) &\n",
    "        (maxr['UR: quality demands'] == use_case[\"UR: quality demands\"]) &\n",
    "        (maxr['Robustness'] == 'low'), :] \n",
    "        # TODO: Specify additional antecedent values here  -> i.e. Quality Demands, Robustness\n",
    "\n",
    "    if len(exp) == 0:\n",
    "        continue\n",
    "\n",
    "    if use_test_loss:  # If available, use the test loss for the ranking of HPO techniques\n",
    "    \n",
    "        # Check whether the test loss is available for this experiment\n",
    "        if exp['Mean (final test loss)'].isnull().any():\n",
    "            \n",
    "            # If not -> rank the HPO techniques based on the validation loss\n",
    "            hpos = exp.set_index('HPO-method')['Mean (final validation loss)'] \n",
    "            hpos.loc['Default Values'] = np.nanmean(exp['Validation baseline'])\n",
    "\n",
    "        else: \n",
    "            \n",
    "            # If available -> rank the HPO techniques based on the test loss\n",
    "            hpos = exp.set_index('HPO-method')['Mean (final test loss)'] \n",
    "            hpos.loc['Default Values'] = np.nanmean(exp['Test baseline'])\n",
    "    \n",
    "    else:  # Always use the validation loss\n",
    "\n",
    "        hpos = exp.set_index('HPO-method')['Mean (final validation loss)'] \n",
    "        hpos.loc['Default Values'] = np.nanmean(exp['Validation baseline'])\n",
    "\n",
    "    # Compute the scaled loss deviation for each suitable HPO technique in this experiment\n",
    "    loss_arr = hpos.to_numpy()\n",
    "    min_value = np.nanmin(loss_arr)\n",
    "    max_value = np.nanmax(loss_arr[loss_arr != np.inf])\n",
    "    scaled_hpos = (hpos - min_value) / (max_value - min_value)\n",
    "\n",
    "    # Filter HPO techniques, that have been classified as non suitable for this use case based on the user requirements and the robustness antecedent\n",
    "    non_suitable_hpos = exp.loc[exp['HPO suitability'] == 'no', 'HPO-method'].values\n",
    "\n",
    "    for ko_hpo in non_suitable_hpos:\n",
    "        scaled_hpos[ko_hpo] += ur_penalty\n",
    "\n",
    "    # Recommendation of the BRBES\n",
    "    rec_hpo = y_pred.iloc[idx].idxmax(axis='columns')\n",
    "\n",
    "    # Case 1: BRBES recommendation is not among the HPO techniques, that have been evaluated in the benchmarking study -> no distance value available\n",
    "    if hpo_brb2bm_map[rec_hpo] not in scaled_hpos:\n",
    "        brb_distance_value = np.nan\n",
    "        rs_distance_value = np.nan\n",
    "        dv_distance_value = np.nan\n",
    "\n",
    "    # Case 2: BRBES recommendation is among the HPO techniques of this use case / experiment -> get scaled deviation of recommendation\n",
    "    else:\n",
    "        brb_distance_value = scaled_hpos.loc[hpo_brb2bm_map[rec_hpo]]\n",
    "\n",
    "        if 'RandomSearch' in scaled_hpos:\n",
    "            rs_distance_value = scaled_hpos.loc['RandomSearch']\n",
    "            \n",
    "        else: # Random Search may also be crashed and therefore is not among the HPO techniques\n",
    "            rs_distance_value = np.nan\n",
    "\n",
    "        dv_distance_value = scaled_hpos.loc['Default Values']\n",
    "\n",
    "    brb_scores.append(brb_distance_value)\n",
    "    rs_scores.append(rs_distance_value)\n",
    "    dv_scores.append(dv_distance_value)\n",
    "\n",
    "    summary_df.loc[idx, 'BRBES Recommendation'] = hpo_brb2bm_map[rec_hpo]\n",
    "    summary_df.loc[idx, 'Best HPO Technique'] = scaled_hpos.idxmin(axis=0)\n",
    "    summary_df.loc[idx, 'Distance Value'] = brb_distance_value\n",
    "\n",
    "print('BRBES avg. score (stdev): \\t\\t{:.3f} ({:.2f})'.format(np.nanmean(brb_scores), np.nanstd(brb_scores)))\n",
    "print('RandomSearch avg. score (stdev): \\t{:.3f} ({:.2f})'.format(np.nanmean(rs_scores), np.nanstd(rs_scores)))\n",
    "print('Default Values avg. score (stdev): \\t{:.3f} ({:.2f})'.format(np.nanmean(dv_scores), np.nanstd(dv_scores)))\n",
    "\n",
    "if use_test_loss:\n",
    "    #summary_fname = dataset + '_brbes_results_val_and_test_loss.csv'\n",
    "    summary_fname = \"%s_ur_penalty_%f_brbes_results_val_and_test_loss.csv\" % (dataset, round(ur_penalty, 2))\n",
    "else:\n",
    "    summary_fname = \"%s_ur_penalty_%f_brbes_results_val_loss_only.csv\" % (dataset, round(ur_penalty, 2))\n",
    "\n",
    "summary_df.to_csv(os.path.join('C:/Users/Max/Desktop/', summary_fname))"
   ]
  }
 ],
 "metadata": {
  "kernelspec": {
   "name": "python3",
   "display_name": "Python 3.6.12 64-bit ('AutoML': conda)",
   "metadata": {
    "interpreter": {
     "hash": "730a311b7e3f5d24845d59a93d484b8d7c704d2925aba9c4d4bc3977e0bcc056"
    }
   }
  },
  "language_info": {
   "codemirror_mode": {
    "name": "ipython",
    "version": 3
   },
   "file_extension": ".py",
   "mimetype": "text/x-python",
   "name": "python",
   "nbconvert_exporter": "python",
   "pygments_lexer": "ipython3",
   "version": "3.6.12-final"
  }
 },
 "nbformat": 4,
 "nbformat_minor": 4
}